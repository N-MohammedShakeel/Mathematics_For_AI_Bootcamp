{
  "cells": [
    {
      "cell_type": "markdown",
      "metadata": {},
      "source": [
        "# Principal Component Analysis in Linear Algebra for AI/ML\n",
        "\n",
        "## Introduction and Relevance\n",
        "**Definition**: Principal Component Analysis (PCA) is a dimensionality reduction technique that projects high-dimensional data onto orthogonal axes (principal components) to maximize variance, used in AI/ML for feature extraction, visualization, and noise reduction.\n",
        "\n",
        "**Mathematical Definition**:\n",
        "- For dataset $\\mathbf{X} \\in \\mathbb{R}^{m \\times n}$ ($m$ samples, $n$ features):\n",
        "  1. **Center Data**: $\\mathbf{X}_{\\text{centered}} = \\mathbf{X} - \\bar{\\mathbf{X}}$, where $\\bar{\\mathbf{X}}$ is the mean vector.\n",
        "  2. **Covariance Matrix**: $\\mathbf{C} = \\frac{1}{m-1} \\mathbf{X}_{\\text{centered}}^T \\mathbf{X}_{\\text{centered}}$.\n",
        "  3. **Eigenvalue Decomposition**: Find eigenvalues $\\lambda_1 \\geq \\dots \\geq \\lambda_n \\geq 0$ and eigenvectors $\\mathbf{v}_1, \\dots, \\mathbf{v}_n$ of $\\mathbf{C}$. Eigenvectors are principal components; eigenvalues represent variance.\n",
        "  4. **Projection**: Select top $k$ eigenvectors ($\\mathbf{V}_k$) and project: $\\mathbf{Z} = \\mathbf{X}_{\\text{centered}} \\mathbf{V}_k$, where $\\mathbf{Z} \\in \\mathbb{R}^{m \\times k}$.\n",
        "- **SVD Alternative**: For $\\mathbf{X}_{\\text{centered}} = \\mathbf{U} \\mathbf{\\Sigma} \\mathbf{V}^T$, columns of $\\mathbf{V}$ are principal components, and $\\lambda_i = \\frac{\\sigma_i^2}{m-1}$.\n",
        "\n",
        "**Geometric Interpretation**: PCA rotates data to align with axes of maximum variance, capturing key patterns.\n",
        "\n",
        "**Examples**:\n",
        "- Projects 2D data onto a line (first principal component).\n",
        "- Reduces high-dimensional image data for visualization.\n",
        "\n",
        "**Relevance in Mathematics**:\n",
        "- **Variance Maximization**: Identifies directions of maximum data spread.\n",
        "- **Orthogonal Transformations**: Uses orthonormal bases.\n",
        "- **Matrix Approximation**: Provides low-rank approximations.\n",
        "\n",
        "**Relevance in AI/ML**:\n",
        "- **Dimensionality Reduction**: Reduces features, improving efficiency.\n",
        "- **Decorrelation**: Creates uncorrelated features.\n",
        "- **Visualization**: Projects data to 2D/3D.\n",
        "- **Noise Reduction**: Filters low-variance components.\n",
        "\n",
        "**Applications**:\n",
        "- Dimensionality reduction (e.g., genomic data).\n",
        "- Visualization (e.g., customer segmentation).\n",
        "- Image compression, denoising, feature extraction, anomaly detection."
      ]
    },
    {
      "cell_type": "markdown",
      "metadata": {},
      "source": [
        "## Core Concepts\n",
        "\n",
        "### 2.1 Principal Components\n",
        "**Definition**: Eigenvectors of the covariance matrix $\\mathbf{C}$, representing orthogonal directions of maximum variance.\n",
        "\n",
        "**Explanation**: Principal components are linear combinations of features, with the first capturing the most variance, the second (orthogonal) the next most, etc.\n",
        "\n",
        "**Properties**:\n",
        "- **Orthogonality**: $\\mathbf{v}_i \\cdot \\mathbf{v}_j = 0$ for $i \\neq j$.\n",
        "- **Normalization**: $\\|\\mathbf{v}_i\\|_2 = 1$.\n",
        "- **Variance**: Eigenvalue $\\lambda_i$ indicates variance captured.\n",
        "\n",
        "**Why Necessary**: Provides uncorrelated features and simplifies analysis.\n",
        "\n",
        "**ML Use-Case**: Feature extraction for classification."
      ]
    },
    {
      "cell_type": "code",
      "execution_count": 1,
      "metadata": {},
      "outputs": [
        {
          "name": "stdout",
          "output_type": "stream",
          "text": [
            "Principal components:\n",
            " [[-0.71  0.71]\n",
            " [ 0.71  0.71]]\n",
            "Variances (eigenvalues): [0. 8.]\n"
          ]
        }
      ],
      "source": [
        "# Principal Components\n",
        "import numpy as np\n",
        "\n",
        "# Sample data\n",
        "X = np.array([[1, 2], [3, 4], [5, 6]])\n",
        "X_centered = X - np.mean(X, axis=0)\n",
        "C = np.cov(X_centered.T)\n",
        "eigenvalues, eigenvectors = np.linalg.eigh(C)\n",
        "\n",
        "print('Principal components:\\n', eigenvectors.round(2))\n",
        "print('Variances (eigenvalues):', eigenvalues.round(2))"
      ]
    },
    {
      "cell_type": "markdown",
      "metadata": {},
      "source": [
        "### 2.2 Variance Explained and Dimensionality Reduction\n",
        "**Definition**: Proportion of variance explained: $\\frac{\\sum_{i=1}^k \\lambda_i}{\\sum_{i=1}^n \\lambda_i}$.\n",
        "\n",
        "**Explanation**: Selects top $k$ components to retain most variance, reducing dimensionality.\n",
        "\n",
        "**Properties**:\n",
        "- **Maximizes Variance**: Ensures optimal subspace.\n",
        "- **Cumulative Variance**: Indicates information retained.\n",
        "\n",
        "**Why Necessary**: Reduces complexity, removes noise.\n",
        "\n",
        "**ML Use-Case**: Preprocessing for faster training."
      ]
    },
    {
      "cell_type": "code",
      "execution_count": 2,
      "metadata": {},
      "outputs": [
        {
          "name": "stdout",
          "output_type": "stream",
          "text": [
            "Variance explained per component: [0. 1.]\n",
            "Cumulative variance explained: [0. 1.]\n"
          ]
        }
      ],
      "source": [
        "# Variance Explained\n",
        "total_variance = np.sum(eigenvalues)\n",
        "variance_explained = eigenvalues / total_variance\n",
        "print('Variance explained per component:', variance_explained.round(2))\n",
        "print('Cumulative variance explained:', np.cumsum(variance_explained).round(2))"
      ]
    },
    {
      "cell_type": "markdown",
      "metadata": {},
      "source": [
        "### 2.3 SVD and PCA\n",
        "**Definition**: SVD of $\\mathbf{X}_{\\text{centered}} = \\mathbf{U} \\mathbf{\\Sigma} \\mathbf{V}^T$ gives principal components in $\\mathbf{V}$ and variances via $\\lambda_i = \\frac{\\sigma_i^2}{m-1}$.\n",
        "\n",
        "**Explanation**: SVD is efficient and stable for PCA, avoiding direct covariance computation.\n",
        "\n",
        "**Why Necessary**: Handles large or ill-conditioned datasets.\n",
        "\n",
        "**ML Use-Case**: PCA on high-dimensional image data."
      ]
    },
    {
      "cell_type": "code",
      "execution_count": 3,
      "metadata": {},
      "outputs": [
        {
          "name": "stdout",
          "output_type": "stream",
          "text": [
            "Principal components (SVD):\n",
            " [[ 0.71  0.71]\n",
            " [ 0.71 -0.71]]\n",
            "Projected data:\n",
            " [[-2.83]\n",
            " [ 0.  ]\n",
            " [ 2.83]]\n"
          ]
        }
      ],
      "source": [
        "# PCA with SVD\n",
        "U, Sigma, Vt = np.linalg.svd(X_centered, full_matrices=False)\n",
        "principal_components = Vt.T\n",
        "projected_data = X_centered @ Vt.T[:, :1]\n",
        "\n",
        "print('Principal components (SVD):\\n', principal_components.round(2))\n",
        "print('Projected data:\\n', projected_data.round(2))"
      ]
    },
    {
      "cell_type": "markdown",
      "metadata": {},
      "source": [
        "### 2.4 Reconstruction Error\n",
        "**Definition**: Error = $\\|\\mathbf{X}_{\\text{centered}} - \\mathbf{X}_{\\text{centered}} \\mathbf{V}_k \\mathbf{V}_k^T\\|_F$.\n",
        "\n",
        "**Explanation**: Measures information loss in dimensionality reduction.\n",
        "\n",
        "**Why Necessary**: Guides selection of $k$ to balance accuracy and efficiency.\n",
        "\n",
        "**ML Use-Case**: Denoising by discarding low-variance components."
      ]
    },
    {
      "cell_type": "code",
      "execution_count": 4,
      "metadata": {},
      "outputs": [
        {
          "name": "stdout",
          "output_type": "stream",
          "text": [
            "Reconstruction error (Frobenius norm): 0.0\n"
          ]
        }
      ],
      "source": [
        "# Reconstruction Error\n",
        "k = 1\n",
        "P = Vt.T[:, :k] @ Vt[:k]\n",
        "X_reconstructed = X_centered @ P\n",
        "error = np.linalg.norm(X_centered - X_reconstructed, 'fro')\n",
        "\n",
        "print('Reconstruction error (Frobenius norm):', error.round(2))"
      ]
    },
    {
      "cell_type": "markdown",
      "metadata": {},
      "source": [
        "## Applications in AI/ML\n",
        "- **Dimensionality Reduction**: Preprocessing for faster training.\n",
        "- **Visualization**: 2D/3D plots of high-dimensional data.\n",
        "- **Image Compression**: Reduces storage needs.\n",
        "- **Denoising**: Removes low-variance noise.\n",
        "- **Feature Extraction**: Creates uncorrelated features.\n",
        "- **Anomaly Detection**: Identifies outliers via large errors."
      ]
    },
    {
      "cell_type": "markdown",
      "metadata": {},
      "source": [
        "## Practical ML Example: Linear Regression with PCA\n",
        "**Explanation**: PCA reduces data dimensionality before linear regression, projecting features onto principal components to remove correlation and noise. The regression finds the best fit line by projecting the target vector $\\mathbf{y}$ onto the column space of the reduced feature matrix $\\mathbf{Z} = \\mathbf{X}_{\\text{centered}} \\mathbf{V}_k$. The projected points lie on the best fit line, and residuals are orthogonal to the column space, minimizing the L2 norm.\n",
        "\n",
        "**Derivation**:\n",
        "- PCA: $\\mathbf{Z} = \\mathbf{X}_{\\text{centered}} \\mathbf{V}_k$, where $\\mathbf{V}_k$ contains top $k$ principal components.\n",
        "- Model: $y_i = \\beta_0 + \\sum_{j=1}^k \\beta_j z_{ij} + \\epsilon_i$, with $\\mathbf{Z}_{\\text{aug}} = [\\mathbf{1}, \\mathbf{Z}]$ (including intercept).\n",
        "- Minimize $\\|\\mathbf{y} - \\mathbf{Z}_{\\text{aug}} \\mathbf{\\beta}\\|_2^2$.\n",
        "- Normal equations: $\\mathbf{Z}_{\\text{aug}}^T \\mathbf{Z}_{\\text{aug}} \\mathbf{\\beta} = \\mathbf{Z}_{\\text{aug}}^T \\mathbf{y}$.\n",
        "- Solution: $\\mathbf{\\beta} = (\\mathbf{Z}_{\\text{aug}}^T \\mathbf{Z}_{\\text{aug}})^{-1} \\mathbf{Z}_{\\text{aug}}^T \\mathbf{y}$.\n",
        "- Projection: $\\mathbf{y}_{\\text{proj}} = \\mathbf{Z}_{\\text{aug}} \\mathbf{\\beta}$.\n",
        "- Residuals: $\\mathbf{e} = \\mathbf{y} - \\mathbf{y}_{\\text{proj}}$, with SSE = $\\|\\mathbf{e}\\|_2^2$.\n",
        "\n",
        "**Why Necessary**:\n",
        "- PCA reduces feature dimensionality, improving efficiency and reducing overfitting.\n",
        "- Projection minimizes L2 norm of residuals.\n",
        "\n",
        "**Error Solutions**:\n",
        "- Increase $k$ to capture more variance.\n",
        "- Add features or use non-linear models.\n",
        "- Remove outliers to reduce large residuals."
      ]
    },
    {
      "cell_type": "code",
      "execution_count": 5,
      "metadata": {},
      "outputs": [
        {
          "data": {
            "image/png": "[encoded data removed]",
            "text/plain": [
              "<Figure size 800x600 with 1 Axes>"
            ]
          },
          "metadata": {},
          "output_type": "display_data"
        },
        {
          "name": "stdout",
          "output_type": "stream",
          "text": [
            "Coefficients: Intercept = -4.98, Slope = -3.53\n",
            "Projected y: [ -9.69  -2.43 -12.49  -6.16   0.47   0.83  -4.69  -2.62  -9.2   -3.85]\n",
            "Residuals: [-2.11 -1.65  0.79 -0.13  1.59 -1.41  0.14  0.05  0.68  2.06]\n",
            "SSE: 17.05\n",
            "L2 norm of residuals: 4.13\n"
          ]
        }
      ],
      "source": [
        "# Linear Regression with PCA\n",
        "import numpy as np\n",
        "import matplotlib.pyplot as plt\n",
        "\n",
        "# Simulated data\n",
        "np.random.seed(0)\n",
        "X = np.random.multivariate_normal([0, 0], [[2, 1], [1, 2]], 10)\n",
        "y = 2 * X[:, 0] + 3 * X[:, 1] + np.random.normal(0, 0.5, 10)  # Target\n",
        "\n",
        "# PCA\n",
        "X_centered = X - np.mean(X, axis=0)\n",
        "U, Sigma, Vt = np.linalg.svd(X_centered, full_matrices=False)\n",
        "k = 1\n",
        "Z = X_centered @ Vt.T[:, :k]  # Reduced features\n",
        "Z_aug = np.vstack([np.ones(len(Z)), Z.T]).T  # Add intercept\n",
        "\n",
        "# Linear regression\n",
        "beta = np.linalg.inv(Z_aug.T @ Z_aug) @ Z_aug.T @ y\n",
        "y_proj = Z_aug @ beta\n",
        "errors = y - y_proj\n",
        "sse = np.sum(errors**2)\n",
        "\n",
        "# Visualize\n",
        "plt.figure(figsize=(8, 6))\n",
        "plt.scatter(Z, y, color='blue', label='Data Points')\n",
        "plt.plot(Z, y_proj, color='red', label=f'Best Fit Line (PCA)')\n",
        "plt.scatter(Z, y_proj, color='green', marker='x', s=100, label='Projected Points')\n",
        "for i in range(len(Z)):\n",
        "    plt.plot([Z[i], Z[i]], [y[i], y_proj[i]], 'k--', label='Residual' if i == 0 else None)\n",
        "plt.xlabel('PC1')\n",
        "plt.ylabel('y')\n",
        "plt.grid(True)\n",
        "plt.title('Linear Regression with PCA-Processed Features')\n",
        "plt.legend()\n",
        "plt.show()\n",
        "\n",
        "print(f'Coefficients: Intercept = {beta[0]:.2f}, Slope = {beta[1]:.2f}')\n",
        "print(f'Projected y:', y_proj.round(2))\n",
        "print(f'Residuals:', errors.round(2))\n",
        "print(f'SSE: {sse:.2f}')\n",
        "print(f'L2 norm of residuals: {np.linalg.norm(errors):.2f}')"
      ]
    },
    {
      "cell_type": "markdown",
      "metadata": {},
      "source": [
        "**Example Explanation**: This code applies PCA to reduce 2D data to 1D (first principal component), then performs linear regression on the reduced features. The visualization shows data points, the best fit line, projected points, and residuals. Errors are computed, with suggestions to increase $k$, add features, or remove outliers to reduce SSE.\n",
        "\n",
        "## Summary\n",
        "- **Key Concepts**: PCA projects data onto principal components to maximize variance, reducing dimensionality.\n",
        "- **Mathematical Significance**: Maximizes variance, uses orthogonal transformations.\n",
        "- **AI/ML Relevance**: Enhances efficiency, visualization, and robustness.\n",
        "- **Next Steps**: Practice PCA and regression on datasets."
      ]
    },
    {
      "cell_type": "markdown",
      "metadata": {},
      "source": [
        "## Tips and Practice\n",
        "- **Visualize**: Use Matplotlib or GeoGebra.\n",
        "- **Practice Problems**:\n",
        "  1. Compute PCA for a $3 \\times 2$ dataset.\n",
        "  2. Calculate variance explained for top components.\n",
        "  3. Perform regression with PCA-preprocessed data.\n",
        "- **Project Idea**: Apply PCA for visualization or compression.\n",
        "- **Resources**: Strang’s “Linear Algebra,” 3Blue1Brown, MIT 18.06."
      ]
    },
    {
      "cell_type": "code",
      "execution_count": 6,
      "metadata": {},
      "outputs": [
        {
          "name": "stdout",
          "output_type": "stream",
          "text": [
            "Reduced data:\n",
            " [[-2.83]\n",
            " [ 0.  ]\n",
            " [ 2.83]]\n"
          ]
        }
      ],
      "source": [
        "# Experimentation Zone\n",
        "import numpy as np\n",
        "\n",
        "X = np.array([[1, 2], [3, 4], [5, 6]])\n",
        "X_centered = X - np.mean(X, axis=0)\n",
        "U, Sigma, Vt = np.linalg.svd(X_centered, full_matrices=False)\n",
        "Z = X_centered @ Vt.T[:, :1]\n",
        "\n",
        "print('Reduced data:\\n', Z.round(2))"
      ]
    }
  ],
  "metadata": {
    "kernelspec": {
      "display_name": "Python 3",
      "language": "python",
      "name": "python3"
    },
    "language_info": {
      "codemirror_mode": {
        "name": "ipython",
        "version": 3
      },
      "file_extension": ".py",
      "mimetype": "text/x-python",
      "name": "python",
      "nbconvert_exporter": "python",
      "pygments_lexer": "ipython3",
      "version": "3.10.18"
    }
  },
  "nbformat": 4,
  "nbformat_minor": 4
}
