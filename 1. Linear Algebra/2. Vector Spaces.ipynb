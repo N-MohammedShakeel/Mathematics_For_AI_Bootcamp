{
  "cells": [
    {
      "cell_type": "markdown",
      "metadata": {},
      "source": [
        "# Vector Spaces in Linear Algebra for AI/ML\n",
        "\n",
        "## Introduction and Relevance\n",
        "**Definition**: A vector space (or linear space) is a set of objects called vectors, equipped with two operations—vector addition and scalar multiplication—that satisfy specific axioms. These operations allow vectors to be combined and scaled to produce other vectors within the same set. In AI/ML, vector spaces provide the mathematical framework for representing and manipulating data, such as feature vectors or model parameters.\n",
        "\n",
        "**Mathematical Definition**: A vector space over a field $\\mathbb{F}$ (typically $\\mathbb{R}$ for real numbers in ML) is a set $V$ with:\n",
        "- **Vector Addition**: An operation $+: V \\times V \\to V$ that combines two vectors to produce another vector in $V$.\n",
        "- **Scalar Multiplication**: An operation $\\cdot: \\mathbb{F} \\times V \\to V$ that scales a vector by a scalar to produce another vector in $V$.\n",
        "- These operations must satisfy eight axioms (associativity, commutativity, identity, inverses, distributivity, compatibility, and scalar identity).\n",
        "\n",
        "**Examples**:\n",
        "- $\\mathbb{R}^n$: The set of all $n$-dimensional vectors (e.g., $\\mathbb{R}^2 = \\{[x, y] \\mid x, y \\in \\mathbb{R}\\}$, such as $[1, 2]$).\n",
        "- Matrix spaces: The set of $m \\times n$ matrices with real entries.\n",
        "- Polynomial spaces: The set of polynomials of degree at most $n$.\n",
        "- ML context: Feature spaces where data points are vectors (e.g., a 28x28 grayscale image as a vector in $\\mathbb{R}^{784}$ for MNIST).\n",
        "\n",
        "**Relevance in Mathematics**:\n",
        "- **Linear Combinations**: Represent complex objects as combinations of simpler ones.\n",
        "- **Transformations**: Model linear transformations (e.g., rotations, scaling) as matrices acting on vector spaces.\n",
        "- **Generalization**: Provide a framework for vectors, matrices, and higher-dimensional tensors.\n",
        "- **Structural Analysis**: Study properties like dimension, basis, and linear independence.\n",
        "\n",
        "**Relevance in AI/ML**:\n",
        "- **Feature Spaces**: Represent data points (e.g., images, text) as vectors in high-dimensional spaces.\n",
        "- **Model Parameters**: Weights and biases in models like neural networks reside in vector spaces.\n",
        "- **Algorithms**: Provide the structure for operations like gradient descent, PCA, or kernel methods.\n",
        "- **Dimensionality Reduction**: Subspaces enable projection to lower dimensions for efficiency.\n",
        "\n",
        "**Applications Overview**:\n",
        "- **Data Representation**: Represent datasets as vectors in a feature space.\n",
        "- **Dimensionality Reduction**: Project data onto subspaces in PCA.\n",
        "- **Neural Networks**: Map inputs and weights between vector spaces.\n",
        "- **Kernel Methods**: Map data to higher-dimensional spaces for separability.\n",
        "- **Optimization**: Perform gradient updates in the vector space of parameters."
      ]
    },
    {
      "cell_type": "markdown",
      "metadata": {},
      "source": [
        "## Core Concepts and Derivations\n",
        "This section covers vector space axioms, subspaces, basis, dimension, span, and linear independence, with examples, derivations, and visualizations.\n",
        "\n",
        "### 2.1 Axioms of Vector Spaces\n",
        "**Definition**: A set $V$ is a vector space over $\\mathbb{R}$ if it satisfies:\n",
        "1. **Associativity of Addition**: $(\\mathbf{u} + \\mathbf{v}) + \\mathbf{w} = \\mathbf{u} + (\\mathbf{v} + \\mathbf{w})$.\n",
        "2. **Commutativity of Addition**: $\\mathbf{u} + \\mathbf{v} = \\mathbf{v} + \\mathbf{u}$.\n",
        "3. **Identity Element of Addition**: There exists $\\mathbf{0} \\in V$ such that $\\mathbf{u} + \\mathbf{0} = \\mathbf{u}$.\n",
        "4. **Inverse Elements of Addition**: For every $\\mathbf{u} \\in V$, there exists $-\\mathbf{u} \\in V$ such that $\\mathbf{u} + (-\\mathbf{u}) = \\mathbf{0}$.\n",
        "5. **Distributivity of Scalar Multiplication over Vector Addition**: $c (\\mathbf{u} + \\mathbf{v}) = c \\mathbf{u} + c \\mathbf{v}$.\n",
        "6. **Distributivity of Scalar Multiplication over Scalar Addition**: $(c + d) \\mathbf{u} = c \\mathbf{u} + d \\mathbf{u}$.\n",
        "7. **Compatibility of Scalar Multiplication**: $c (d \\mathbf{u}) = (cd) \\mathbf{u}$.\n",
        "8. **Identity Element of Scalar Multiplication**: $1 \\cdot \\mathbf{u} = \\mathbf{u}$.\n",
        "\n",
        "**Explanation**: These axioms ensure that vector spaces are structured environments for linear operations, enabling consistent computations.\n",
        "\n",
        "**Why Necessary**:\n",
        "- **Foundation for Operations**: Guarantees that vector addition and scalar multiplication are well-defined, critical for ML computations.\n",
        "- **Consistency**: Ensures that data representations (e.g., feature vectors) can be manipulated reliably.\n",
        "- **Algorithm Support**: Provides the mathematical basis for linear transformations and optimization in ML.\n",
        "- **Generalization**: Allows ML models to operate on various data types (e.g., vectors, matrices) within a unified framework.\n",
        "\n",
        "**Example**: Verify $\\mathbb{R}^2$ is a vector space.\n",
        "- For $\\mathbf{u} = [u_1, u_2]$, $\\mathbf{v} = [v_1, v_2]$, addition $[u_1 + v_1, u_2 + v_2]$ and scalar multiplication $c [u_1, u_2] = [c u_1, c u_2]$ satisfy all axioms.\n",
        "\n",
        "**ML Use-Case**: In neural networks, input and weight vectors reside in vector spaces, ensuring matrix operations like $\\mathbf{W} \\mathbf{x}$ are valid."
      ]
    },
    {
      "cell_type": "code",
      "execution_count": 2,
      "metadata": {},
      "outputs": [
        {
          "name": "stdout",
          "output_type": "stream",
          "text": [
            "Addition (u + v): [4 6]\n",
            "Scalar Multiplication (c * u): [2 4]\n",
            "Distributivity (c * (u + v)): [ 8 12]  || (c * u + c * v): [ 8 12]\n",
            "Zero Vector: [0 0]\n"
          ]
        }
      ],
      "source": [
        "# Verify Vector Space Axioms (R^2)\n",
        "import numpy as np\n",
        "\n",
        "# Define vectors in R^2\n",
        "u = np.array([1, 2])\n",
        "v = np.array([3, 4])\n",
        "c = 2\n",
        "d = 3\n",
        "\n",
        "# Check axioms (partial demonstration)\n",
        "print(\"Addition (u + v):\", u + v)  # Commutativity: u + v = v + u\n",
        "print(\"Scalar Multiplication (c * u):\", c * u) \n",
        "print(\"Distributivity (c * (u + v)):\", c * (u + v) , \" || (c * u + c * v):\", c * u + c * v)  # Should be equal \n",
        "print(\"Zero Vector:\", np.array([0, 0]))"
      ]
    },
    {
      "cell_type": "markdown",
      "metadata": {},
      "source": [
        "### 2.2 Subspaces\n",
        "**Definition**: A subspace $W \\subseteq V$ is a subset of a vector space $V$ that is itself a vector space, containing the zero vector and closed under addition and scalar multiplication.\n",
        "\n",
        "**Explanation**: Subspaces represent constrained or lower-dimensional structures within a vector space.\n",
        "\n",
        "**Why Necessary**:\n",
        "- **Dimensionality Reduction**: Subspaces enable projection of data to lower dimensions, critical for PCA and other techniques.\n",
        "- **Solution Spaces**: Define feasible regions for optimization problems in ML.\n",
        "- **Efficiency**: Allow algorithms to focus on relevant subspaces, reducing computational complexity.\n",
        "- **Feature Representation**: Subspaces can represent subsets of features in ML datasets.\n",
        "\n",
        "**Example**: In $\\mathbb{R}^2$, $W = \\{[x, 0] \\mid x \\in \\mathbb{R}\\}$ is a subspace (the x-axis).\n",
        "- Contains $[0, 0]$, closed under addition ($[x_1, 0] + [x_2, 0] = [x_1 + x_2, 0]$) and scalar multiplication ($c [x, 0] = [cx, 0]$).\n",
        "\n",
        "**ML Use-Case**: In PCA, data is projected onto a subspace spanned by principal components to reduce dimensionality."
      ]
    },
    {
      "cell_type": "code",
      "execution_count": null,
      "metadata": {},
      "outputs": [
        {
          "data": {
            "image/png": "[encoded data removed]",
            "text/plain": [
              "<Figure size 600x600 with 1 Axes>"
            ]
          },
          "metadata": {},
          "output_type": "display_data"
        },
        {
          "name": "stdout",
          "output_type": "stream",
          "text": [
            "Zero vector: [0 0]\n",
            "u + v: [3 0]\n",
            "c * u: [2 0]\n"
          ]
        }
      ],
      "source": [
        "# Subspace Verification and Visualization\n",
        "import numpy as np\n",
        "import matplotlib.pyplot as plt\n",
        "\n",
        "# Define vectors in subspace W = {[x, 0] | x in R} of R^2\n",
        "zero = np.array([0, 0])\n",
        "u = np.array([1, 0])\n",
        "v = np.array([2, 0])\n",
        "c = 2\n",
        "\n",
        "# Verify subspace properties\n",
        "u_plus_v = u + v\n",
        "c_u = c * u\n",
        "\n",
        "# Visualize subspace\n",
        "plt.figure(figsize=(6, 6))\n",
        "plt.plot([-3, 3], [0, 0], 'k-', label='Subspace W = {[x, 0]}')\n",
        "plt.quiver(0, 0, u[0], u[1], angles='xy', scale_units='xy', scale=1, color='blue', label='u = [1, 0]')\n",
        "plt.quiver(0, 0, v[0], v[1], angles='xy', scale_units='xy', scale=1, color='red', label='v = [2, 0]')\n",
        "plt.quiver(0, 0, u_plus_v[0], u_plus_v[1], angles='xy', scale_units='xy', scale=1, color='green', label='u + v')\n",
        "plt.quiver(0, 0, c_u[0], c_u[1], angles='xy', scale_units='xy', scale=1, color='purple', label='2 * u')\n",
        "\n",
        "plt.xlim(-3, 3)\n",
        "plt.ylim(-1, 1)\n",
        "plt.grid(True)\n",
        "plt.axhline(0, color='black', linewidth=0.5)\n",
        "plt.axvline(0, color='black', linewidth=0.5)\n",
        "plt.title('Subspace W in R^2')\n",
        "plt.legend()\n",
        "plt.show()\n",
        "\n",
        "print(\"Zero vector:\", zero)\n",
        "print(\"u + v:\", u_plus_v)\n",
        "print(\"c * u:\", c_u)"
      ]
    },
    {
      "cell_type": "markdown",
      "metadata": {},
      "source": [
        "### 2.3 Basis and Dimension\n",
        "**Definition**:\n",
        "- A **basis** is a set of linearly independent vectors that span the entire vector space.\n",
        "- The **dimension** is the number of vectors in a basis.\n",
        "\n",
        "**Explanation**: A basis provides a minimal set of vectors to represent all vectors in the space, and the dimension quantifies the space’s complexity.\n",
        "\n",
        "**Why Necessary**:\n",
        "- **Data Structure**: Defines the number of features or parameters needed in ML models.\n",
        "- **Efficiency**: Basis vectors enable efficient representations in algorithms like PCA.\n",
        "- **Model Design**: Dimension informs the architecture of neural networks (e.g., layer sizes).\n",
        "- **Feature Selection**: Ensures minimal redundancy in feature sets.\n",
        "\n",
        "**Example**: For $\\mathbb{R}^2$, the standard basis is $\\{[1, 0], [0, 1]\\}$, dimension = 2.\n",
        "\n",
        "**ML Use-Case**: In PCA, the basis of the subspace consists of principal components, and the dimension determines how many to retain."
      ]
    },
    {
      "cell_type": "code",
      "execution_count": 3,
      "metadata": {},
      "outputs": [
        {
          "name": "stdout",
          "output_type": "stream",
          "text": [
            "Basis for R^2: [array([1, 0]), array([0, 1])]\n",
            "Dimension of R^2: 2\n",
            "Coefficients to express v = [3, 4] as linear combination: [3. 4.]\n"
          ]
        }
      ],
      "source": [
        "# Basis and Dimension\n",
        "import numpy as np\n",
        "\n",
        "# Standard basis for R^2\n",
        "basis = [np.array([1, 0]), np.array([0, 1])]\n",
        "print(\"Basis for R^2:\", basis)\n",
        "print(\"Dimension of R^2:\", len(basis))\n",
        "\n",
        "# Verify that basis spans R^2\n",
        "v = np.array([3, 4])  # Arbitrary vector\n",
        "coefficients = np.linalg.solve(np.array(basis).T, v)  # Solve for c1, c2\n",
        "print(\"Coefficients to express v = [3, 4] as linear combination:\", coefficients)"
      ]
    },
    {
      "cell_type": "markdown",
      "metadata": {},
      "source": [
        "### 2.4 Span and Linear Independence\n",
        "**Definition**:\n",
        "- The **span** of a set of vectors is the set of all linear combinations of those vectors.\n",
        "- A set is **linearly independent** if no vector is a linear combination of the others; otherwise, it is linearly dependent.\n",
        "\n",
        "**Explanation**: The span describes the subspace generated by a set of vectors, while linear independence ensures non-redundancy.\n",
        "\n",
        "**Why Necessary**:\n",
        "- **Feature Selection**: Linearly independent features avoid multicollinearity in ML models.\n",
        "- **Dimensionality Reduction**: The span defines reduced subspaces in PCA or other methods.\n",
        "- **Model Efficiency**: Reduces redundancy in parameter spaces.\n",
        "- **Data Representation**: Ensures that feature spaces are spanned efficiently.\n",
        "\n",
        "**Example**: Vectors $[1, 0]$, $[0, 1]$, $[2, 0]$ are linearly dependent since $[2, 0] = 2 [1, 0]$.\n",
        "\n",
        "**ML Use-Case**: In regression, linearly independent features prevent overfitting and improve model stability."
      ]
    },
    {
      "cell_type": "code",
      "execution_count": null,
      "metadata": {},
      "outputs": [
        {
          "name": "stdout",
          "output_type": "stream",
          "text": [
            "Rank (number of linearly independent vectors): 2\n"
          ]
        },
        {
          "data": {
            "image/png": "[encoded data removed]",
            "text/plain": [
              "<Figure size 600x600 with 1 Axes>"
            ]
          },
          "metadata": {},
          "output_type": "display_data"
        }
      ],
      "source": [
        "# Span and Linear Independence\n",
        "import numpy as np\n",
        "import matplotlib.pyplot as plt\n",
        "\n",
        "# Define vectors\n",
        "v1 = np.array([1, 0])\n",
        "v2 = np.array([0, 1])\n",
        "v3 = np.array([2, 0])\n",
        "\n",
        "# Check linear independence\n",
        "A = np.array([v1, v2, v3]).T\n",
        "rank = np.linalg.matrix_rank(A)\n",
        "print(\"Rank (number of linearly independent vectors):\", rank)  # Should be 2\n",
        "\n",
        "# Visualize span\n",
        "plt.figure(figsize=(6, 6))\n",
        "plt.quiver(0, 0, v1[0], v1[1], angles='xy', scale_units='xy', scale=1, color='blue', label='v1 = [1, 0]')\n",
        "plt.quiver(0, 0, v2[0], v2[1], angles='xy', scale_units='xy', scale=1, color='red', label='v2 = [0, 1]')\n",
        "plt.quiver(0, 0, v3[0], v3[1], angles='xy', scale_units='xy', scale=1, color='green', label='v3 = [2, 0]')\n",
        "plt.fill([0, v1[0], v1[0] + v2[0], v2[0]], [0, v1[1], v1[1] + v2[1], v2[1]], 'gray', alpha=0.3, label='Span of v1, v2 (R^2)')\n",
        "\n",
        "plt.xlim(-1, 3)\n",
        "plt.ylim(-1, 3)\n",
        "plt.grid(True)\n",
        "plt.axhline(0, color='black', linewidth=0.5)\n",
        "plt.axvline(0, color='black', linewidth=0.5)\n",
        "plt.title('Span and Linear Independence in R^2')\n",
        "plt.legend()\n",
        "plt.show()"
      ]
    },
    {
      "cell_type": "markdown",
      "metadata": {},
      "source": [
        "## Applications in AI/ML\n",
        "Vector spaces are applied across ML tasks:\n",
        "- **Data Representation**: Represent datasets as vectors in high-dimensional feature spaces.\n",
        "- **Dimensionality Reduction**: Project data onto subspaces in PCA or LDA.\n",
        "- **Neural Networks**: Map inputs and weights between vector spaces in layers.\n",
        "- **Kernel Methods**: Map data to higher-dimensional spaces for separability in SVMs.\n",
        "- **Optimization**: Perform gradient updates in the vector space of parameters."
      ]
    },
    {
      "cell_type": "markdown",
      "metadata": {},
      "source": [
        "## Practical ML Examples\n",
        "Below are coded examples demonstrating vector space concepts in ML contexts."
      ]
    },
    {
      "cell_type": "code",
      "execution_count": 5,
      "metadata": {},
      "outputs": [
        {
          "name": "stdout",
          "output_type": "stream",
          "text": [
            "Principal Component (basis of subspace): [0.70710678 0.70710678]\n",
            "Projected Data: [-2.12132034 -0.70710678  1.41421356  1.41421356]\n"
          ]
        }
      ],
      "source": [
        "# Example 1: PCA (Subspace Projection)\n",
        "import numpy as np\n",
        "\n",
        "# Simulate data: 4 samples, 2 features\n",
        "X = np.array([[1, 2], [2, 3], [3, 5], [4, 4]])\n",
        "\n",
        "# Center the data\n",
        "X_centered = X - np.mean(X, axis=0)\n",
        "\n",
        "# Compute covariance matrix and eigenvectors\n",
        "cov_matrix = np.cov(X_centered.T)\n",
        "eigenvalues, eigenvectors = np.linalg.eigh(cov_matrix)\n",
        "\n",
        "# Project onto first principal component (subspace)\n",
        "principal_component = eigenvectors[:, -1]  # Largest eigenvalue\n",
        "projected_data = X_centered @ principal_component\n",
        "\n",
        "print(\"Principal Component (basis of subspace):\", principal_component)\n",
        "print(\"Projected Data:\", projected_data)"
      ]
    },
    {
      "cell_type": "code",
      "execution_count": 6,
      "metadata": {},
      "outputs": [
        {
          "name": "stdout",
          "output_type": "stream",
          "text": [
            "Regression Weights (in vector space): [0.33333333 1.5       ]\n"
          ]
        }
      ],
      "source": [
        "# Example 2: Linear Regression (Solution Space)\n",
        "import numpy as np\n",
        "\n",
        "# Simulate data: X (3 samples, 2 features, including bias), y (3 targets)\n",
        "X = np.array([[1, 1], [1, 2], [1, 3]])\n",
        "y = np.array([2, 3, 5])\n",
        "\n",
        "# Solve for weights (in solution subspace)\n",
        "w = np.linalg.inv(X.T @ X) @ X.T @ y\n",
        "print(\"Regression Weights (in vector space):\", w)"
      ]
    },
    {
      "cell_type": "markdown",
      "metadata": {},
      "source": [
        "## Summary\n",
        "- **Key Concepts**: Vector spaces are defined by axioms, with subspaces, basis, dimension, span, and linear independence as core properties.\n",
        "- **Mathematical Significance**: Enable linear combinations, transformations, and structural analysis of data.\n",
        "- **AI/ML Relevance**: Provide the framework for data representation, model parameters, and algorithms like PCA and neural networks.\n",
        "- **Next Steps**: Practice verifying subspaces, finding bases, and applying vector space concepts to ML tasks."
      ]
    },
    {
      "cell_type": "markdown",
      "metadata": {},
      "source": [
        "## Tips and Practice\n",
        "- **Visualize**: Use Matplotlib (as shown) or GeoGebra (https://www.geogebra.org/) to explore vector spaces and subspaces.\n",
        "- **Practice Problems**:\n",
        "  1. Verify if $\\{[x, x] \\mid x \\in \\mathbb{R}\\}$ is a subspace of $\\mathbb{R}^2$.\n",
        "  2. Find a basis for the subspace spanned by $[1, 0]$, $[0, 1]$, $[1, 1]$ in $\\mathbb{R}^2$.\n",
        "  3. Check if $[1, 0]$, $[0, 1]$, $[2, 2]$ are linearly independent.\n",
        "- **Project Idea**: Implement PCA on a small dataset and visualize the subspace spanned by principal components.\n",
        "- **Resources**:\n",
        "  - *Book*: “Linear Algebra and Its Applications” by Gilbert Strang.\n",
        "  - *Online*: 3Blue1Brown’s “Essence of Linear Algebra” (YouTube, vector space video), Khan Academy’s Linear Algebra course.\n",
        "  - *Practice*: MIT OpenCourseWare (18.06 Linear Algebra), NumPy tutorials on Real Python."
      ]
    },
    {
      "cell_type": "code",
      "execution_count": 7,
      "metadata": {},
      "outputs": [
        {
          "name": "stdout",
          "output_type": "stream",
          "text": [
            "Zero vector: [0 0]\n",
            "u + v: [3 0]\n",
            "c * u: [2 0]\n",
            "Rank (number of linearly independent vectors): 1\n",
            "Proposed Basis: [array([1, 0]), array([0, 1])]\n"
          ]
        }
      ],
      "source": [
        "# Experimentation Zone\n",
        "# Try defining your own vectors and checking vector space properties!\n",
        "import numpy as np\n",
        "\n",
        "# Define vectors for a subspace\n",
        "u = np.array([1, 0])  # Change these values\n",
        "v = np.array([2, 0])  # Change these values\n",
        "c = 2\n",
        "\n",
        "# Verify subspace properties\n",
        "zero = np.array([0, 0])\n",
        "u_plus_v = u + v\n",
        "c_u = c * u\n",
        "\n",
        "print(\"Zero vector:\", zero)\n",
        "print(\"u + v:\", u_plus_v)\n",
        "print(\"c * u:\", c_u)\n",
        "\n",
        "# Check linear independence\n",
        "A = np.array([u, v]).T\n",
        "rank = np.linalg.matrix_rank(A)\n",
        "print(\"Rank (number of linearly independent vectors):\", rank)\n",
        "\n",
        "# Try a basis for R^2\n",
        "basis = [np.array([1, 0]), np.array([0, 1])]  # Change if needed\n",
        "print(\"Proposed Basis:\", basis)"
      ]
    }
  ],
  "metadata": {
    "kernelspec": {
      "display_name": "Python 3",
      "language": "python",
      "name": "python3"
    },
    "language_info": {
      "codemirror_mode": {
        "name": "ipython",
        "version": 3
      },
      "file_extension": ".py",
      "mimetype": "text/x-python",
      "name": "python",
      "nbconvert_exporter": "python",
      "pygments_lexer": "ipython3",
      "version": "3.10.18"
    }
  },
  "nbformat": 4,
  "nbformat_minor": 4
}
