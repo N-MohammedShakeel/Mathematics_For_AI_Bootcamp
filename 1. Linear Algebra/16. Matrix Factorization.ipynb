{
  "cells": [
    {
      "cell_type": "markdown",
      "metadata": {},
      "source": [
        "# Matrix Factorization in Linear Algebra for AI/ML\n",
        "\n",
        "## Introduction and Relevance\n",
        "**Definition**: Matrix Factorization decomposes a matrix $\\mathbf{A} \\in \\mathbb{R}^{m \\times n}$ into simpler matrices, revealing latent structures or reducing dimensionality, crucial for AI/ML tasks like recommendation systems and feature extraction.\n",
        "\n",
        "**Mathematical Definition**: $\\mathbf{A} \\approx \\mathbf{U} \\mathbf{V}^T$ or $\\mathbf{A} = \\mathbf{B} \\mathbf{C}$, where $\\mathbf{U}, \\mathbf{V}, \\mathbf{B}, \\mathbf{C}$ are matrices with specific properties (e.g., lower rank, non-negative).\n",
        "- **Examples**:\n",
        "  - **SVD**: $\\mathbf{A} = \\mathbf{U} \\mathbf{\\Sigma} \\mathbf{V}^T$, with orthogonal $\\mathbf{U}, \\mathbf{V}$ and diagonal $\\mathbf{\\Sigma}$.\n",
        "  - **NMF**: $\\mathbf{A} \\approx \\mathbf{W} \\mathbf{H}$, with non-negative $\\mathbf{W}, \\mathbf{H}$.\n",
        "\n",
        "**ML Context**: Factorizes user-item matrices into latent factors for recommendations.\n",
        "\n",
        "**Relevance in Mathematics**:\n",
        "- Decomposition into interpretable components.\n",
        "- Rank analysis via singular values.\n",
        "- Numerical stability for approximations.\n",
        "- Geometric insights as rotations/scalings.\n",
        "\n",
        "**Relevance in AI/ML**:\n",
        "- Reduces dimensionality for efficient processing.\n",
        "- Extracts latent features (e.g., user preferences).\n",
        "- Handles missing data via matrix completion.\n",
        "- Improves scalability for large datasets.\n",
        "\n",
        "**Applications**:\n",
        "- Recommendation systems (e.g., movie ratings).\n",
        "- Image compression, topic modeling, PCA, matrix completion."
      ]
    },
    {
      "cell_type": "markdown",
      "metadata": {},
      "source": [
        "## Core Concepts\n",
        "\n",
        "### 2.1 Types of Matrix Factorization\n",
        "**Definition**:\n",
        "- **SVD**: $\\mathbf{A} = \\mathbf{U} \\mathbf{\\Sigma} \\mathbf{V}^T$, orthogonal $\\mathbf{U}, \\mathbf{V}$, diagonal $\\mathbf{\\Sigma}$.\n",
        "- **NMF**: $\\mathbf{A} \\approx \\mathbf{W} \\mathbf{H}$, non-negative $\\mathbf{W}, \\mathbf{H}$.\n",
        "- **LU**: $\\mathbf{A} = \\mathbf{L} \\mathbf{U}$, lower/upper triangular.\n",
        "- **QR**: $\\mathbf{A} = \\mathbf{Q} \\mathbf{R}$, orthogonal $\\mathbf{Q}$, upper triangular $\\mathbf{R}$.\n",
        "\n",
        "**Explanation**: Each type suits specific tasks (SVD for PCA, NMF for interpretable features).\n",
        "\n",
        "**Why Necessary**: Reveals structures, simplifies computations.\n",
        "\n",
        "**ML Use-Case**: SVD in PCA, NMF in topic modeling."
      ]
    },
    {
      "cell_type": "code",
      "execution_count": 1,
      "metadata": {},
      "outputs": [
        {
          "name": "stdout",
          "output_type": "stream",
          "text": [
            "SVD approximation:\n",
            " [[1. 2. 3.]\n",
            " [4. 5. 6.]\n",
            " [7. 8. 9.]]\n",
            "NMF approximation:\n",
            " [[1. 2. 3.]\n",
            " [4. 5. 6.]\n",
            " [7. 8. 9.]]\n"
          ]
        }
      ],
      "source": [
        "# SVD and NMF\n",
        "import numpy as np\n",
        "from sklearn.decomposition import NMF\n",
        "\n",
        "# Sample data\n",
        "A = np.array([[1, 2, 3], [4, 5, 6], [7, 8, 9]])\n",
        "\n",
        "# SVD\n",
        "U, Sigma, Vt = np.linalg.svd(A, full_matrices=False)\n",
        "k = 2\n",
        "A_svd = U[:, :k] @ np.diag(Sigma[:k]) @ Vt[:k]\n",
        "\n",
        "# NMF\n",
        "model = NMF(n_components=2, init='random', random_state=0)\n",
        "W = model.fit_transform(A)\n",
        "H = model.components_\n",
        "A_nmf = W @ H\n",
        "\n",
        "print('SVD approximation:\\n', A_svd.round(2))\n",
        "print('NMF approximation:\\n', A_nmf.round(2))"
      ]
    },
    {
      "cell_type": "markdown",
      "metadata": {},
      "source": [
        "### 2.2 Low-Rank Approximation\n",
        "**Definition**: Approximates $\\mathbf{A}$ with rank-$k$ matrix, e.g., $\\mathbf{A} \\approx \\mathbf{U}_k \\mathbf{\\Sigma}_k \\mathbf{V}_k^T$ (SVD).\n",
        "\n",
        "**Explanation**: Retains dominant components, reducing noise.\n",
        "\n",
        "**Properties**: Minimizes Frobenius norm $\\|\\mathbf{A} - \\mathbf{A}_k\\|_F$.\n",
        "\n",
        "**Why Necessary**: Reduces storage/computation.\n",
        "\n",
        "**ML Use-Case**: Compressing user-item matrices."
      ]
    },
    {
      "cell_type": "code",
      "execution_count": 2,
      "metadata": {},
      "outputs": [
        {
          "name": "stdout",
          "output_type": "stream",
          "text": [
            "SVD approximation error: 0.0\n"
          ]
        }
      ],
      "source": [
        "# Low-Rank Approximation Error\n",
        "error_svd = np.linalg.norm(A - A_svd, 'fro')\n",
        "print('SVD approximation error:', error_svd.round(2))"
      ]
    },
    {
      "cell_type": "markdown",
      "metadata": {},
      "source": [
        "### 2.3 Optimization in Matrix Factorization\n",
        "**Definition**: Optimizes objective, e.g., $\\|\\mathbf{A} - \\mathbf{W} \\mathbf{H}\\|_F^2$ in NMF.\n",
        "\n",
        "**Explanation**: Uses iterative methods like gradient descent.\n",
        "\n",
        "**Why Necessary**: Ensures accurate approximations for sparse/noisy data.\n",
        "\n",
        "**ML Use-Case**: Collaborative filtering."
      ]
    },
    {
      "cell_type": "markdown",
      "metadata": {},
      "source": [
        "## Applications in AI/ML\n",
        "- **Recommendation Systems**: Factorizes user-item matrices.\n",
        "- **Image Compression**: Reduces dimensionality via SVD.\n",
        "- **Topic Modeling**: NMF extracts topics from text.\n",
        "- **Matrix Completion**: Reconstructs missing entries.\n",
        "- **PCA**: SVD reduces feature dimensionality."
      ]
    },
    {
      "cell_type": "markdown",
      "metadata": {},
      "source": [
        "## Practical ML Example: Linear Regression with Matrix Factorization (SVD)\n",
        "**Explanation**: Matrix factorization (via SVD) preprocesses features for linear regression, reducing dimensionality and noise. The regression projects the target vector $\\mathbf{y}$ onto the column space of the reduced feature matrix $\\mathbf{Z}$ (from SVD), minimizing the L2 norm of residuals.\n",
        "\n",
        "**Derivation**:\n",
        "- SVD: $\\mathbf{X}_{\\text{centered}} = \\mathbf{U} \\mathbf{\\Sigma} \\mathbf{V}^T$, where $\\mathbf{Z} = \\mathbf{X}_{\\text{centered}} \\mathbf{V}_k$ (top $k$ components).\n",
        "- Model: $y_i = \\beta_0 + \\sum_{j=1}^k \\beta_j z_{ij} + \\epsilon_i$, with $\\mathbf{Z}_{\\text{aug}} = [\\mathbf{1}, \\mathbf{Z}]$.\n",
        "- Minimize: $\\|\\mathbf{y} - \\mathbf{Z}_{\\text{aug}} \\mathbf{\\beta}\\|_2^2$.\n",
        "- Normal equations: $\\mathbf{Z}_{\\text{aug}}^T \\mathbf{Z}_{\\text{aug}} \\mathbf{\\beta} = \\mathbf{Z}_{\\text{aug}}^T \\mathbf{y}$.\n",
        "- Solution: $\\mathbf{\\beta} = (\\mathbf{Z}_{\\text{aug}}^T \\mathbf{Z}_{\\text{aug}})^{-1} \\mathbf{Z}_{\\text{aug}}^T \\mathbf{y}$.\n",
        "- Projection: $\\mathbf{y}_{\\text{proj}} = \\mathbf{Z}_{\\text{aug}} \\mathbf{\\beta}$.\n",
        "- Residuals: $\\mathbf{e} = \\mathbf{y} - \\mathbf{y}_{\\text{proj}}$, SSE = $\\|\\mathbf{e}\\|_2^2$.\n",
        "\n",
        "**Why Necessary**: Reduces feature dimensionality, improves efficiency, and ensures stability via SVD.\n",
        "\n",
        "**Error Solutions**:\n",
        "- Increase $k$ to capture more variance.\n",
        "- Add features or non-linear terms.\n",
        "- Remove outliers to reduce residuals."
      ]
    },
    {
      "cell_type": "code",
      "execution_count": 3,
      "metadata": {},
      "outputs": [
        {
          "data": {
            "image/png": "[encoded data removed]",
            "text/plain": [
              "<Figure size 800x600 with 1 Axes>"
            ]
          },
          "metadata": {},
          "output_type": "display_data"
        },
        {
          "name": "stdout",
          "output_type": "stream",
          "text": [
            "Coefficients: Intercept = -4.98, Slope = -3.53\n",
            "Projected y: [ -9.69  -2.43 -12.49  -6.16   0.47   0.83  -4.69  -2.62  -9.2   -3.85]\n",
            "Residuals: [-2.11 -1.65  0.79 -0.13  1.59 -1.41  0.14  0.05  0.68  2.06]\n",
            "SSE: 17.05\n",
            "L2 norm of residuals: 4.13\n"
          ]
        }
      ],
      "source": [
        "# Linear Regression with SVD\n",
        "import numpy as np\n",
        "import matplotlib.pyplot as plt\n",
        "\n",
        "# Simulated data\n",
        "np.random.seed(0)\n",
        "X = np.random.multivariate_normal([0, 0], [[2, 1], [1, 2]], 10)\n",
        "y = 2 * X[:, 0] + 3 * X[:, 1] + np.random.normal(0, 0.5, 10)\n",
        "\n",
        "# SVD factorization\n",
        "X_centered = X - np.mean(X, axis=0)\n",
        "U, Sigma, Vt = np.linalg.svd(X_centered, full_matrices=False)\n",
        "k = 1\n",
        "Z = X_centered @ Vt.T[:, :k]  # Reduced features\n",
        "Z_aug = np.vstack([np.ones(len(Z)), Z.T]).T\n",
        "\n",
        "# Linear regression\n",
        "beta = np.linalg.inv(Z_aug.T @ Z_aug) @ Z_aug.T @ y\n",
        "y_proj = Z_aug @ beta\n",
        "errors = y - y_proj\n",
        "sse = np.sum(errors**2)\n",
        "\n",
        "# Visualize\n",
        "plt.figure(figsize=(8, 6))\n",
        "plt.scatter(Z, y, color='blue', label='Data Points')\n",
        "plt.plot(Z, y_proj, color='red', label=f'Best Fit Line')\n",
        "plt.scatter(Z, y_proj, color='green', marker='x', s=100, label='Projected Points')\n",
        "for i in range(len(Z)):\n",
        "    plt.plot([Z[i], Z[i]], [y[i], y_proj[i]], 'k--', label='Residual' if i == 0 else None)\n",
        "plt.xlabel('SVD Component 1')\n",
        "plt.ylabel('y')\n",
        "plt.grid(True)\n",
        "plt.title('Linear Regression with SVD-Processed Features')\n",
        "plt.legend()\n",
        "plt.show()\n",
        "\n",
        "print(f'Coefficients: Intercept = {beta[0]:.2f}, Slope = {beta[1]:.2f}')\n",
        "print(f'Projected y:', y_proj.round(2))\n",
        "print(f'Residuals:', errors.round(2))\n",
        "print(f'SSE: {sse:.2f}')\n",
        "print(f'L2 norm of residuals: {np.linalg.norm(errors):.2f}')"
      ]
    },
    {
      "cell_type": "markdown",
      "metadata": {},
      "source": [
        "**Example Explanation**: This code uses SVD to reduce 2D data to 1D, then performs linear regression. The visualization shows data points, best fit line, projected points, and residuals. Errors are computed, with solutions to increase $k$, add features, or remove outliers.\n",
        "\n",
        "## Summary\n",
        "- **Key Concepts**: Decomposes matrices to reveal latent structures, reduce dimensionality.\n",
        "- **Mathematical Significance**: Simplifies computations, ensures stability.\n",
        "- **AI/ML Relevance**: Enhances efficiency, extracts patterns.\n",
        "- **Next Steps**: Apply factorization to recommendation or compression tasks."
      ]
    },
    {
      "cell_type": "markdown",
      "metadata": {},
      "source": [
        "## Tips and Practice\n",
        "- **Visualize**: Use Matplotlib or GeoGebra.\n",
        "- **Practice Problems**:\n",
        "  1. Compute SVD for a $3 \\times 2$ matrix.\n",
        "  2. Apply NMF to a small dataset.\n",
        "  3. Perform regression with SVD-preprocessed data.\n",
        "- **Project Idea**: Build a recommendation system using NMF.\n",
        "- **Resources**: Strang’s “Linear Algebra,” 3Blue1Brown, scikit-learn tutorials."
      ]
    },
    {
      "cell_type": "code",
      "execution_count": 4,
      "metadata": {},
      "outputs": [
        {
          "name": "stdout",
          "output_type": "stream",
          "text": [
            "SVD approximation:\n",
            " [[1.57 2.08 2.59]\n",
            " [3.76 4.97 6.17]]\n"
          ]
        }
      ],
      "source": [
        "# Experimentation Zone\n",
        "import numpy as np\n",
        "\n",
        "A = np.array([[1, 2, 3], [4, 5, 6]])\n",
        "U, Sigma, Vt = np.linalg.svd(A, full_matrices=False)\n",
        "k = 1\n",
        "A_approx = U[:, :k] @ np.diag(Sigma[:k]) @ Vt[:k]\n",
        "\n",
        "print('SVD approximation:\\n', A_approx.round(2))"
      ]
    }
  ],
  "metadata": {
    "kernelspec": {
      "display_name": "Python 3",
      "language": "python",
      "name": "python3"
    },
    "language_info": {
      "codemirror_mode": {
        "name": "ipython",
        "version": 3
      },
      "file_extension": ".py",
      "mimetype": "text/x-python",
      "name": "python",
      "nbconvert_exporter": "python",
      "pygments_lexer": "ipython3",
      "version": "3.10.18"
    }
  },
  "nbformat": 4,
  "nbformat_minor": 4
}
