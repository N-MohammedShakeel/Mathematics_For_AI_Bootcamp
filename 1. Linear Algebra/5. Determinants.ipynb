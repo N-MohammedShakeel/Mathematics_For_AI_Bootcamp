{
  "cells": [
    {
      "cell_type": "markdown",
      "metadata": {},
      "source": [
        "# Determinants in Linear Algebra for AI/ML\n",
        "\n",
        "## Introduction and Relevance\n",
        "**Definition**: A determinant is a scalar value associated with a square matrix ($\\mathbf{A} \\in \\mathbb{R}^{n \\times n}$) that encapsulates properties like invertibility, volume scaling in transformations, or solvability of linear systems. It is denoted as $\\det(\\mathbf{A})$ or $|\\mathbf{A}|$.\n",
        "\n",
        "**Mathematical Representation**:\n",
        "- For a 2x2 matrix $\\mathbf{A} = \\begin{bmatrix} a & b \\\\ c & d \\end{bmatrix}$, the determinant is:\n",
        "  $$\n",
        "  \\det(\\mathbf{A}) = ad - bc\n",
        "  $$\n",
        "- For a 3x3 matrix $\\mathbf{A} = \\begin{bmatrix} a & b & c \\\\ d & e & f \\\\ g & h & i \\end{bmatrix}$, the determinant is:\n",
        "  $$\n",
        "  \\det(\\mathbf{A}) = a(ei - fh) - b(di - fg) + c(dh - eg)\n",
        "  $$\n",
        "- For larger matrices, determinants are computed using cofactor expansion, row reduction, or LU decomposition.\n",
        "\n",
        "**Geometric Interpretation**: The determinant represents the volume scaling factor of a linear transformation defined by the matrix. For example, in 2D, $|\\det(\\mathbf{A})|$ is the area of the parallelogram formed by transformed basis vectors.\n",
        "\n",
        "**Examples**:\n",
        "- For $\\mathbf{A} = \\begin{bmatrix} 1 & 2 \\\\ 3 & 4 \\end{bmatrix}$, $\\det(\\mathbf{A}) = (1 \\cdot 4) - (2 \\cdot 3) = 4 - 6 = -2$.\n",
        "- In ML, determinants arise in covariance matrices or transformation matrices (e.g., in PCA or 3D modeling).\n",
        "\n",
        "**Relevance in Mathematics**:\n",
        "- **Invertibility Analysis**: Determines if a matrix has an inverse, crucial for solving linear systems.\n",
        "- **Volume Scaling**: Quantifies how transformations scale areas or volumes in multidimensional space.\n",
        "- **Linear Dependence**: Indicates whether rows or columns are linearly independent ($\\det(\\mathbf{A}) = 0$ implies dependence).\n",
        "- **Eigenvalue Computation**: Used in the characteristic polynomial $\\det(\\mathbf{A} - \\lambda \\mathbf{I}) = 0$ to find eigenvalues.\n",
        "\n",
        "**Relevance in AI/ML**:\n",
        "- **Model Solvability**: Ensures matrices are invertible in analytical solutions (e.g., linear regression).\n",
        "- **Probabilistic Models**: Appears in likelihood computations for Gaussian processes or Bayesian methods.\n",
        "- **Data Analysis**: Quantifies data spread in PCA or LDA via covariance matrix determinants.\n",
        "- **Numerical Stability**: Identifies singular or ill-conditioned matrices to avoid computational errors.\n",
        "\n",
        "**Applications Overview**:\n",
        "- **Linear Regression**: Ensures solvability of the normal equation.\n",
        "- **Gaussian Processes**: Computes log-determinants for likelihood optimization.\n",
        "- **PCA**: Quantifies data variance via covariance matrix determinants.\n",
        "- **Computer Vision**: Calculates scaling factors in transformations.\n",
        "- **Numerical Stability**: Prevents errors in matrix-based ML computations."
      ]
    },
    {
      "cell_type": "markdown",
      "metadata": {},
      "source": [
        "## Core Operations and Derivations\n",
        "This section covers determinant computations, properties, and their role in invertibility, with examples, derivations, and visualizations.\n",
        "\n",
        "### 2.1 Computation of Determinants\n",
        "**Methods**:\n",
        "- **Cofactor Expansion**: Expand along a row or column: $\\det(\\mathbf{A}) = \\sum_{j=1}^n a_{ij} C_{ij}$, where $C_{ij} = (-1)^{i+j} \\det(\\mathbf{M}_{ij})$ and $\\mathbf{M}_{ij}$ is the minor.\n",
        "- **Row Reduction**: Reduce to upper triangular form; the determinant is the product of diagonal elements.\n",
        "- **LU Decomposition**: Express $\\mathbf{A} = \\mathbf{L} \\mathbf{U}$, where $\\det(\\mathbf{A}) = \\det(\\mathbf{L}) \\cdot \\det(\\mathbf{U})$.\n",
        "\n",
        "**Explanation**: These methods enable efficient determinant computation, critical for large matrices in ML.\n",
        "\n",
        "**Why Necessary**:\n",
        "- **Invertibility Check**: A non-zero determinant ensures a matrix is invertible, crucial for solving linear systems in ML.\n",
        "- **Numerical Efficiency**: Row reduction or LU decomposition reduces computational cost for large matrices.\n",
        "- **Probabilistic Models**: Determinants appear in likelihood functions (e.g., Gaussian processes).\n",
        "- **Geometric Insights**: Quantifies scaling effects of transformations, useful in computer vision.\n",
        "\n",
        "**Example**: For $\\mathbf{A} = \\begin{bmatrix} 1 & 2 \\\\ 3 & 4 \\end{bmatrix}$, compute $\\det(\\mathbf{A})$:\n",
        "- Using formula: $\\det(\\mathbf{A}) = (1 \\cdot 4) - (2 \\cdot 3) = 4 - 6 = -2$.\n",
        "\n",
        "**ML Use-Case**: In Gaussian processes, the determinant of the covariance matrix is used in the log-likelihood: $\\log p(\\mathbf{y}) = -\\frac{1}{2} \\mathbf{y}^T \\mathbf{K}^{-1} \\mathbf{y} - \\frac{1}{2} \\log|\\mathbf{K}| - \\frac{n}{2} \\log(2\\pi)$."
      ]
    },
    {
      "cell_type": "code",
      "execution_count": 1,
      "metadata": {},
      "outputs": [
        {
          "name": "stdout",
          "output_type": "stream",
          "text": [
            "Determinant of A:\n",
            " -2.0000000000000004\n",
            "Determinant of B:\n",
            " 0.0\n"
          ]
        }
      ],
      "source": [
        "# Determinant Computation\n",
        "import numpy as np\n",
        "\n",
        "# Define a 2x2 matrix\n",
        "A = np.array([[1, 2], [3, 4]])\n",
        "det_A = np.linalg.det(A)\n",
        "print(\"Determinant of A:\\n\", det_A)\n",
        "\n",
        "# Define a 3x3 matrix\n",
        "B = np.array([[1, 2, 3], [4, 5, 6], [7, 8, 9]])\n",
        "det_B = np.linalg.det(B)\n",
        "print(\"Determinant of B:\\n\", det_B)  # Should be ~0 (singular matrix)"
      ]
    },
    {
      "cell_type": "markdown",
      "metadata": {},
      "source": [
        "### 2.2 Properties of Determinants\n",
        "**Properties**:\n",
        "- **Scaling**: Multiplying a row by $k$ scales the determinant by $k$.\n",
        "- **Row Swap**: Swapping two rows negates the determinant.\n",
        "- **Row Addition**: Adding a multiple of one row to another does not change the determinant.\n",
        "- **Zero Determinant**: $\\det(\\mathbf{A}) = 0$ if $\\mathbf{A}$ is singular.\n",
        "- **Transpose**: $\\det(\\mathbf{A}) = \\det(\\mathbf{A}^T)$.\n",
        "- **Product**: For square matrices, $\\det(\\mathbf{A} \\mathbf{B}) = \\det(\\mathbf{A}) \\cdot \\det(\\mathbf{B})$.\n",
        "\n",
        "**Explanation**: These properties simplify computations and reveal matrix characteristics like linear dependence or invertibility.\n",
        "\n",
        "**Why Necessary**:\n",
        "- **Efficient Computation**: Properties like row addition reduce computational complexity in ML algorithms.\n",
        "- **Invertibility Testing**: A zero determinant indicates a singular matrix, critical for ensuring solvability in ML models.\n",
        "- **Data Analysis**: In PCA, the determinant of the covariance matrix quantifies data spread, guiding dimensionality reduction.\n",
        "- **Transformation Analysis**: Properties help analyze how matrices transform data in ML tasks like computer vision.\n",
        "\n",
        "**Example**: For $\\mathbf{A} = \\begin{bmatrix} 1 & 2 \\\\ 3 & 4 \\end{bmatrix}$, scale row 1 by 2:\n",
        "- New matrix: $\\begin{bmatrix} 2 & 4 \\\\ 3 & 4 \\end{bmatrix}$, determinant: $(2 \\cdot 4) - (4 \\cdot 3) = 8 - 12 = -4 = 2 \\cdot (-2)$.\n",
        "\n",
        "**ML Use-Case**: In PCA, the determinant of the covariance matrix indicates the total variance of the data."
      ]
    },
    {
      "cell_type": "code",
      "execution_count": 2,
      "metadata": {},
      "outputs": [
        {
          "name": "stdout",
          "output_type": "stream",
          "text": [
            "Original Determinant:\n",
            " -2.0000000000000004\n",
            "Determinant after scaling row 1 by 2:\n",
            " -4.000000000000001\n",
            "Determinant of A^T:\n",
            " -2.0\n"
          ]
        }
      ],
      "source": [
        "# Properties of Determinants\n",
        "import numpy as np\n",
        "\n",
        "# Define matrix\n",
        "A = np.array([[1, 2], [3, 4]])\n",
        "det_A = np.linalg.det(A)\n",
        "print(\"Original Determinant:\\n\", det_A)\n",
        "\n",
        "# Scale row 1 by 2\n",
        "A_scaled = A.copy()\n",
        "A_scaled[0] = 2 * A_scaled[0]\n",
        "det_A_scaled = np.linalg.det(A_scaled)\n",
        "print(\"Determinant after scaling row 1 by 2:\\n\", det_A_scaled)\n",
        "\n",
        "# Verify transpose property\n",
        "A_T = A.T\n",
        "det_A_T = np.linalg.det(A_T)\n",
        "print(\"Determinant of A^T:\\n\", det_A_T)  # Should equal det(A)"
      ]
    },
    {
      "cell_type": "markdown",
      "metadata": {},
      "source": [
        "### 2.3 Determinant and Invertibility\n",
        "**Formula**: A square matrix $\\mathbf{A}$ is invertible if $\\det(\\mathbf{A}) \\neq 0$. The inverse is $\\mathbf{A}^{-1} = \\frac{1}{\\det(\\mathbf{A})} \\cdot \\text{adj}(\\mathbf{A})$.\n",
        "\n",
        "**Explanation**: A non-zero determinant ensures a unique solution to $\\mathbf{A} \\mathbf{x} = \\mathbf{b}$.\n",
        "\n",
        "**Why Necessary**:\n",
        "- **Solvability**: Ensures linear systems in ML (e.g., regression) have unique solutions.\n",
        "- **Numerical Stability**: Avoids errors from singular matrices in algorithms like Gaussian processes.\n",
        "- **Model Robustness**: Verifies that weight matrices or covariance matrices are well-conditioned.\n",
        "- **Analytical Solutions**: Enables direct computation of solutions in methods like linear regression.\n",
        "\n",
        "**Example**: For $\\mathbf{A} = \\begin{bmatrix} 1 & 2 \\\\ 3 & 4 \\end{bmatrix}$, $\\det(\\mathbf{A}) = -2 \\neq 0$, so invertible.\n",
        "- For $\\mathbf{B} = \\begin{bmatrix} 1 & 2 \\\\ 2 & 4 \\end{bmatrix}$, $\\det(\\mathbf{B}) = (1 \\cdot 4) - (2 \\cdot 2) = 0$, so singular.\n",
        "\n",
        "**ML Use-Case**: In linear regression, $\\det(\\mathbf{X}^T \\mathbf{X}) \\neq 0$ ensures the normal equation is solvable."
      ]
    },
    {
      "cell_type": "code",
      "execution_count": 3,
      "metadata": {},
      "outputs": [
        {
          "name": "stdout",
          "output_type": "stream",
          "text": [
            "Determinant of A: -2.0000000000000004\n",
            "Inverse of A:\n",
            " [[-2.   1. ]\n",
            " [ 1.5 -0.5]]\n",
            "Matrix B is singular, no inverse exists. Determinant: 0.0\n"
          ]
        }
      ],
      "source": [
        "# Determinant and Invertibility\n",
        "import numpy as np\n",
        "\n",
        "# Define matrices\n",
        "A = np.array([[1, 2], [3, 4]])\n",
        "B = np.array([[1, 2], [2, 4]])\n",
        "\n",
        "# Check invertibility\n",
        "det_A = np.linalg.det(A)\n",
        "if det_A != 0:\n",
        "    A_inv = np.linalg.inv(A)\n",
        "    print(\"Determinant of A:\", det_A)\n",
        "    print(\"Inverse of A:\\n\", A_inv)\n",
        "else:\n",
        "    print(\"Matrix A is singular.\")\n",
        "\n",
        "det_B = np.linalg.det(B)\n",
        "if det_B != 0:\n",
        "    B_inv = np.linalg.inv(B)\n",
        "    print(\"Inverse of B:\\n\", B_inv)\n",
        "else:\n",
        "    print(\"Matrix B is singular, no inverse exists. Determinant:\", det_B)"
      ]
    },
    {
      "cell_type": "markdown",
      "metadata": {},
      "source": [
        "### 2.4 Visualization of Determinant (Geometric Interpretation)\n",
        "**Explanation**: The determinant represents the area (2D) or volume (3D) scaling factor of a matrix transformation. For a 2x2 matrix, $|\\det(\\mathbf{A})|$ is the area of the parallelogram formed by transformed basis vectors.\n",
        "\n",
        "**Why Necessary**:\n",
        "- **Transformation Analysis**: Quantifies how matrices scale data, crucial for computer vision.\n",
        "- **Data Spread**: In PCA, the determinant of the covariance matrix indicates variance.\n",
        "- **Model Interpretation**: Helps understand the effect of transformations in ML models.\n",
        "\n",
        "**Example**: For $\\mathbf{A} = \\begin{bmatrix} 1 & 2 \\\\ 3 & 4 \\end{bmatrix}$, visualize the transformed parallelogram."
      ]
    },
    {
      "cell_type": "code",
      "execution_count": 4,
      "metadata": {},
      "outputs": [
        {
          "data": {
            "image/png": "[encoded data removed]",
            "text/plain": [
              "<Figure size 600x600 with 1 Axes>"
            ]
          },
          "metadata": {},
          "output_type": "display_data"
        },
        {
          "name": "stdout",
          "output_type": "stream",
          "text": [
            "Determinant of A: -2.0000000000000004\n"
          ]
        }
      ],
      "source": [
        "# Visualization of Determinant\n",
        "import numpy as np\n",
        "import matplotlib.pyplot as plt\n",
        "\n",
        "# Define matrix\n",
        "A = np.array([[1, 2], [3, 4]])\n",
        "det_A = np.linalg.det(A)\n",
        "\n",
        "# Basis vectors\n",
        "basis = np.array([[1, 0], [0, 1]])\n",
        "transformed = A @ basis.T\n",
        "\n",
        "# Plot original and transformed parallelogram\n",
        "plt.figure(figsize=(6, 6))\n",
        "plt.fill([0, basis[0, 0], basis[0, 0] + basis[0, 1], basis[0, 1], 0], \n",
        "         [0, basis[1, 0], basis[1, 0] + basis[1, 1], basis[1, 1], 0], \n",
        "         'blue', alpha=0.3, label='Original Unit Square')\n",
        "plt.fill([0, transformed[0, 0], transformed[0, 0] + transformed[0, 1], transformed[0, 1], 0], \n",
        "         [0, transformed[1, 0], transformed[1, 0] + transformed[1, 1], transformed[1, 1], 0], \n",
        "         'green', alpha=0.3, label=f'Transformed (Area = |{det_A:.1f}|)')\n",
        "plt.quiver(0, 0, transformed[0, 0], transformed[1, 0], angles='xy', scale_units='xy', scale=1, color='green')\n",
        "plt.quiver(0, 0, transformed[0, 1], transformed[1, 1], angles='xy', scale_units='xy', scale=1, color='green')\n",
        "\n",
        "plt.xlim(-1, 5)\n",
        "plt.ylim(-1, 5)\n",
        "plt.grid(True)\n",
        "plt.axhline(0, color='black', linewidth=0.5)\n",
        "plt.axvline(0, color='black', linewidth=0.5)\n",
        "plt.title('Determinant as Area Scaling')\n",
        "plt.legend()\n",
        "plt.show()\n",
        "\n",
        "print(\"Determinant of A:\", det_A)"
      ]
    },
    {
      "cell_type": "markdown",
      "metadata": {},
      "source": [
        "## Applications in AI/ML\n",
        "Determinants are applied in several ML tasks:\n",
        "- **Linear Regression**: Ensures $\\mathbf{X}^T \\mathbf{X}$ is invertible for the normal equation.\n",
        "- **Gaussian Processes**: Computes log-determinants in likelihood functions.\n",
        "- **PCA**: Quantifies data variance via covariance matrix determinants.\n",
        "- **Numerical Stability**: Identifies singular matrices to avoid computational errors.\n",
        "- **Computer Vision**: Calculates scaling factors in transformations (e.g., 3D modeling)."
      ]
    },
    {
      "cell_type": "markdown",
      "metadata": {},
      "source": [
        "## Practical ML Examples\n",
        "Below are coded examples demonstrating determinants in ML contexts."
      ]
    },
    {
      "cell_type": "code",
      "execution_count": 5,
      "metadata": {},
      "outputs": [
        {
          "name": "stdout",
          "output_type": "stream",
          "text": [
            "Determinant of X^T X: 6.0\n",
            "Linear Regression Weights:\n",
            " [0.33333333 1.5       ]\n"
          ]
        }
      ],
      "source": [
        "# Example 1: Linear Regression (Normal Equation)\n",
        "import numpy as np\n",
        "\n",
        "# Simulate data: X (3 samples, 2 features, including bias), y (3 targets)\n",
        "X = np.array([[1, 1], [1, 2], [1, 3]])\n",
        "y = np.array([2, 3, 5])\n",
        "\n",
        "# Compute normal equation\n",
        "XtX = np.dot(X.T, X)\n",
        "det_XtX = np.linalg.det(XtX)\n",
        "if det_XtX != 0:\n",
        "    w = np.dot(np.linalg.inv(XtX), np.dot(X.T, y))\n",
        "    print(\"Determinant of X^T X:\", det_XtX)\n",
        "    print(\"Linear Regression Weights:\\n\", w)\n",
        "else:\n",
        "    print(\"X^T X is singular, cannot compute weights.\")"
      ]
    },
    {
      "cell_type": "code",
      "execution_count": 6,
      "metadata": {},
      "outputs": [
        {
          "name": "stdout",
          "output_type": "stream",
          "text": [
            "Covariance Matrix:\n",
            " [[1.66666667 1.33333333]\n",
            " [1.33333333 1.66666667]]\n",
            "Determinant of Covariance Matrix: 0.9999999999999997\n"
          ]
        }
      ],
      "source": [
        "# Example 2: PCA (Covariance Matrix Determinant)\n",
        "import numpy as np\n",
        "\n",
        "# Simulate data: 4 samples, 2 features\n",
        "X = np.array([[1, 2], [2, 3], [3, 5], [4, 4]])\n",
        "\n",
        "# Center the data\n",
        "X_centered = X - np.mean(X, axis=0)\n",
        "\n",
        "# Compute covariance matrix\n",
        "cov_matrix = np.cov(X_centered.T)\n",
        "det_cov = np.linalg.det(cov_matrix)\n",
        "\n",
        "print(\"Covariance Matrix:\\n\", cov_matrix)\n",
        "print(\"Determinant of Covariance Matrix:\", det_cov)  # Indicates total variance"
      ]
    },
    {
      "cell_type": "markdown",
      "metadata": {},
      "source": [
        "## Summary\n",
        "- **Key Concepts**: Determinants quantify invertibility, volume scaling, and linear dependence, computed via cofactor expansion, row reduction, or LU decomposition.\n",
        "- **Mathematical Significance**: Enable invertibility analysis, eigenvalue computation, and geometric interpretations.\n",
        "- **AI/ML Relevance**: Ensure solvability, quantify data spread, and maintain numerical stability in ML algorithms.\n",
        "- **Next Steps**: Practice computing determinants, visualize their geometric meaning, and apply them to ML tasks like regression or PCA."
      ]
    },
    {
      "cell_type": "markdown",
      "metadata": {},
      "source": [
        "## Tips and Practice\n",
        "- **Visualize**: Use Matplotlib (as shown) or GeoGebra (https://www.geogebra.org/) to explore determinant as area/volume scaling.\n",
        "- **Practice Problems**:\n",
        "  1. Compute the determinant of $\\begin{bmatrix} 2 & 1 \\\\ 1 & 3 \\end{bmatrix}$.\n",
        "  2. Check if $\\begin{bmatrix} 1 & 2 \\\\ 2 & 4 \\end{bmatrix}$ is invertible.\n",
        "  3. Scale row 1 of $\\begin{bmatrix} 1 & 2 \\\\ 3 & 4 \\end{bmatrix}$ by 3 and compute the new determinant.\n",
        "- **Project Idea**: Implement PCA on a small dataset and compute the determinant of the covariance matrix to analyze data spread.\n",
        "- **Resources**:\n",
        "  - *Book*: “Linear Algebra and Its Applications” by Gilbert Strang.\n",
        "  - *Online*: 3Blue1Brown’s “Essence of Linear Algebra” (YouTube, determinant video), Khan Academy’s Linear Algebra course.\n",
        "  - *Practice*: MIT OpenCourseWare (18.06 Linear Algebra), NumPy tutorials on Real Python."
      ]
    },
    {
      "cell_type": "code",
      "execution_count": 7,
      "metadata": {},
      "outputs": [
        {
          "name": "stdout",
          "output_type": "stream",
          "text": [
            "Determinant of A: -2.0000000000000004\n",
            "Inverse of A:\n",
            " [[-2.   1. ]\n",
            " [ 1.5 -0.5]]\n",
            "Determinant after scaling row 1 by 2: -4.000000000000001\n"
          ]
        }
      ],
      "source": [
        "# Experimentation Zone\n",
        "# Try defining your own matrices and computing determinants!\n",
        "import numpy as np\n",
        "\n",
        "# Define your matrix\n",
        "A = np.array([[1, 2], [3, 4]])  # Change these values\n",
        "\n",
        "# Compute determinant and check invertibility\n",
        "det_A = np.linalg.det(A)\n",
        "print(\"Determinant of A:\", det_A)\n",
        "\n",
        "if det_A != 0:\n",
        "    A_inv = np.linalg.inv(A)\n",
        "    print(\"Inverse of A:\\n\", A_inv)\n",
        "else:\n",
        "    print(\"Matrix is singular, no inverse exists.\")\n",
        "\n",
        "# Try scaling a row\n",
        "A_scaled = A.copy()\n",
        "A_scaled[0] = 2 * A_scaled[0]  # Scale row 1 by 2\n",
        "det_A_scaled = np.linalg.det(A_scaled)\n",
        "print(\"Determinant after scaling row 1 by 2:\", det_A_scaled)"
      ]
    }
  ],
  "metadata": {
    "kernelspec": {
      "display_name": "Python 3",
      "language": "python",
      "name": "python3"
    },
    "language_info": {
      "codemirror_mode": {
        "name": "ipython",
        "version": 3
      },
      "file_extension": ".py",
      "mimetype": "text/x-python",
      "name": "python",
      "nbconvert_exporter": "python",
      "pygments_lexer": "ipython3",
      "version": "3.10.18"
    }
  },
  "nbformat": 4,
  "nbformat_minor": 4
}
