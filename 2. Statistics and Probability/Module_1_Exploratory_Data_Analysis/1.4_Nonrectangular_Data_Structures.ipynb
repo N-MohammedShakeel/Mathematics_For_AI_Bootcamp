{
  "cells": [
    {
      "cell_type": "markdown",
      "metadata": {},
      "source": [
        "# 1.4 Nonrectangular Data Structures\n",
        "Imagine you’re mapping out your family tree—not just a straight list of names, but a sprawling web showing who’s related to whom, with cousins branching off and grandparents at the top. That’s what nonrectangular data structures are all about—data that doesn’t fit neatly into rows and columns like a spreadsheet, but instead flows in more complex shapes like JSON files or graphs. It’s like exploring a jungle of information where the paths twist and turn!"
      ]
    },
    {
      "cell_type": "markdown",
      "metadata": {},
      "source": [
        "## What Are Nonrectangular Data Structures?\n",
        "Unlike the tidy tables we’ve seen, nonrectangular data comes in flexible formats. Two big examples are:\n",
        "\n",
        "- **JSON (JavaScript Object Notation)**: Think of it as a nested notebook. It stores data in key-value pairs, like { \"name\": \"Aisha\", \"toys\": [\"car\", \"doll\"] }, where values can be lists or even more objects. It’s perfect for hierarchical data, like a family with kids and their pets.\n",
        "- **Graphs**: Picture a social network where people (nodes) are connected by friendships (edges). Each person might have different numbers of friends, making it impossible to force into a grid.\n",
        "\n",
        "For instance, a simple JSON might look like this:\n",
        "```json\n",
        "{\n",
        "  \"Aisha\": {\n",
        "    \"age\": 10,\n",
        "    \"toys\": [\"car\", \"block\"]\n",
        "  },\n",
        "  \"Ben\": {\n",
        "    \"age\": 9,\n",
        "    \"toys\": [\"doll\"]\n",
        "  }\n",
        "}\n",
        "```\n",
        "\n",
        "A graph could be Aisha connected to Ben and Clara, with varying friendship strengths. These structures shine when data has relationships or uneven depths."
      ]
    },
    {
      "cell_type": "markdown",
      "metadata": {},
      "source": [
        "## Why Is This Necessary?\n",
        "\n",
        "- **In Mathematics**: Nonrectangular data lets us model complex relationships, like calculating the shortest path between friends in a graph or analyzing nested patterns in JSON.\n",
        "- **In Machine Learning (ML)**: It handles real-world messiness—think social media posts or sensor readings—that doesn’t fit a table, enabling advanced models to learn from it."
      ]
    },
    {
      "cell_type": "markdown",
      "metadata": {},
      "source": [
        "## Relevance in Machine Learning\n",
        "Nonrectangular data is a game-changer for ML, especially with unstructured data. Graphs power recommendation systems (e.g., “friends like this”), while JSON feeds natural language processing (e.g., parsing tweets). Without these, we’d lose the richness of connections and hierarchies that tables can’t capture."
      ]
    },
    {
      "cell_type": "markdown",
      "metadata": {},
      "source": [
        "## Applications\n",
        "\n",
        "- **Social Networks**: Mapping friendships or followers on platforms like Twitter to suggest new connections.\n",
        "- **Sensor Data**: Tracking IoT devices where readings (e.g., temperature, humidity) vary by time and device in a nested format."
      ]
    },
    {
      "cell_type": "markdown",
      "metadata": {},
      "source": [
        "## Step-by-Step Example\n",
        "Let’s explore a JSON example like we’re decoding a treasure map:\n",
        "\n",
        "1. **Understand the Structure**: Check the JSON above—each person has an age and a list of toys.\n",
        "2. **Load It**: Use Python’s `json` library to read it.\n",
        "3. **Navigate It**: Access Aisha’s toys or Ben’s age to see the data in action.\n",
        "\n",
        "Here’s a Python snippet to load and explore:"
      ]
    },
    {
      "cell_type": "code",
      "execution_count": 1,
      "metadata": {},
      "outputs": [
        {
          "name": "stdout",
          "output_type": "stream",
          "text": [
            "Aisha's toys: ['car', 'block']\n",
            "Ben's updated toys: ['doll', 'train']\n"
          ]
        }
      ],
      "source": [
        "import json\n",
        "\n",
        "# Sample JSON data as a string (normally from a file)\n",
        "json_data = '''\n",
        "{\n",
        "  \"Aisha\": {\"age\": 10, \"toys\": [\"car\", \"block\"]},\n",
        "  \"Ben\": {\"age\": 9, \"toys\": [\"doll\"]}\n",
        "}\n",
        "'''\n",
        "\n",
        "# Load JSON into a Python object\n",
        "data = json.loads(json_data)\n",
        "\n",
        "# Access Aisha's toys\n",
        "aisha_toys = data[\"Aisha\"][\"toys\"]\n",
        "print(f\"Aisha's toys: {aisha_toys}\")  # Outputs: Aisha's toys: ['car', 'block']\n",
        "\n",
        "# Add a new toy for Ben\n",
        "data[\"Ben\"][\"toys\"].append(\"train\")\n",
        "print(f\"Ben's updated toys: {data['Ben']['toys']}\")  # Outputs: Ben's updated toys: ['doll', 'train']"
      ]
    },
    {
      "cell_type": "markdown",
      "metadata": {},
      "source": [
        "Let’s also try a simple graph with `networkx` to map friendships:"
      ]
    },
    {
      "cell_type": "code",
      "execution_count": 3,
      "metadata": {},
      "outputs": [
        {
          "data": {
            "image/png": "[encoded data removed]",
            "text/plain": [
              "<Figure size 640x480 with 1 Axes>"
            ]
          },
          "metadata": {},
          "output_type": "display_data"
        },
        {
          "name": "stdout",
          "output_type": "stream",
          "text": [
            "Aisha has 2 friends\n"
          ]
        }
      ],
      "source": [
        "import networkx as nx\n",
        "import matplotlib.pyplot as plt\n",
        "\n",
        "# Create a graph\n",
        "G = nx.Graph()\n",
        "G.add_edges_from([(\"Aisha\", \"Ben\"), (\"Aisha\", \"Clara\"), (\"Ben\", \"Clara\")])\n",
        "\n",
        "# Draw the graph\n",
        "nx.draw(G, with_labels=True, node_color='lightblue', node_size=500, font_size=12, font_weight='bold')\n",
        "plt.title(\"Friendship Network\")\n",
        "plt.show()\n",
        "\n",
        "# Check the number of friends for Aisha\n",
        "aisha_friends = len(list(G.neighbors(\"Aisha\")))\n",
        "print(f\"Aisha has {aisha_friends} friends\")  # Outputs: Aisha has 2 friends"
      ]
    },
    {
      "cell_type": "markdown",
      "metadata": {},
      "source": [
        "This shows Aisha’s connections to Ben and Clara—proof of the graph’s flexibility!"
      ]
    },
    {
      "cell_type": "markdown",
      "metadata": {},
      "source": [
        "## Practical Insights\n",
        "\n",
        "- **Flexibility**: JSON handles varying depths (e.g., some kids have pets, others don’t), unlike rigid tables.\n",
        "- **Relationships Matter**: Graphs excel at showing connections, like who influences whom in a network.\n",
        "- **Parsing Power**: Tools like `json` or graph libraries (e.g., `networkx`) unlock this data for analysis.\n",
        "\n",
        "Let’s add a pet to Aisha’s JSON to test flexibility:"
      ]
    },
    {
      "cell_type": "code",
      "execution_count": 4,
      "metadata": {},
      "outputs": [
        {
          "name": "stdout",
          "output_type": "stream",
          "text": [
            "Aisha's updated data: {'age': 10, 'toys': ['car', 'block'], 'pet': 'dog'}\n"
          ]
        }
      ],
      "source": [
        "# Add a pet to Aisha's data\n",
        "data[\"Aisha\"][\"pet\"] = \"dog\"\n",
        "print(f\"Aisha's updated data: {data['Aisha']}\")  # Outputs: Aisha's updated data: {'age': 10, 'toys': ['car', 'block'], 'pet': 'dog'}"
      ]
    },
    {
      "cell_type": "markdown",
      "metadata": {},
      "source": [
        "## Common Pitfalls to Avoid\n",
        "\n",
        "- **Nested Overload**: Too many levels in JSON (e.g., toys within pets within kids) can confuse parsing—keep it balanced.\n",
        "- **Disconnected Graphs**: If nodes lack edges, the structure collapses—ensure meaningful links.\n",
        "- **Data Type Mixups**: JSON might mix strings and numbers (e.g., \"10\" vs. 10)—check consistency.\n",
        "\n",
        "Let’s test a type mixup by adding a string age (commented out to avoid breaking):"
      ]
    },
    {
      "cell_type": "code",
      "execution_count": 5,
      "metadata": {},
      "outputs": [
        {
          "name": "stdout",
          "output_type": "stream",
          "text": [
            "Clara's data: {'age': 11, 'toys': ['puzzle']}\n"
          ]
        }
      ],
      "source": [
        "# This would cause issues if not handled\n",
        "# data[\"Clara\"] = {\"age\": \"11\", \"toys\": [\"puzzle\"]}  # String age\n",
        "\n",
        "# Instead, let’s ensure consistency by converting\n",
        "data[\"Clara\"] = {\"age\": 11, \"toys\": [\"puzzle\"]}  # Numeric age\n",
        "print(f\"Clara's data: {data.get('Clara', 'Not found')}\")"
      ]
    },
    {
      "cell_type": "markdown",
      "metadata": {},
      "source": [
        "## What’s Next?\n",
        "We’ve navigated the jungle of nonrectangular data. Next, we’ll find the “middle ground” with estimates of location—think of it as pinpointing the heart of our data treasure. Ready for more?"
      ]
    }
  ],
  "metadata": {
    "kernelspec": {
      "display_name": "Python 3",
      "language": "python",
      "name": "python3"
    },
    "language_info": {
      "codemirror_mode": {
        "name": "ipython",
        "version": 3
      },
      "file_extension": ".py",
      "mimetype": "text/x-python",
      "name": "python",
      "nbconvert_exporter": "python",
      "pygments_lexer": "ipython3",
      "version": "3.10.18"
    }
  },
  "nbformat": 4,
  "nbformat_minor": 2
}
