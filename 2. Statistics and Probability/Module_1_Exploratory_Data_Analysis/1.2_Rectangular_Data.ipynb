{
  "cells": [
    {
      "cell_type": "markdown",
      "metadata": {},
      "source": [
        "# 1.2 Rectangular Data\n",
        "Picture yourself setting up a classroom for a big lesson. You line up desks in neat rows and columns, placing a card with each student’s name, grade, and favorite subject on top. That’s what rectangular data is—a tidy, grid-like structure where info slots perfectly into rows and columns, like a recipe book with ingredients listed step-by-step. It’s the go-to format for turning raw data into something we can explore, analyze, and even teach a computer to get!"
      ]
    },
    {
      "cell_type": "markdown",
      "metadata": {},
      "source": [
        "## What Is Rectangular Data?\n",
        "Rectangular data is like a spreadsheet or table where every row is a single “observation” (e.g., a student) and every column is a “variable” (e.g., name, grade, subject). This rows-by-columns shape makes patterns pop out at a glance. Check out our classroom example:\n",
        "\n",
        "| Name   | Grade | Favorite Subject |\n",
        "|--------|-------|------------------|\n",
        "| Aisha  | 85    | Math             |\n",
        "| Ben    | 92    | Science          |\n",
        "| Clara  | 78    | Art              |\n",
        "\n",
        "Each row is a student, and each column is a detail about them. This rectangular setup rocks because it’s consistent—every row has the same columns, and each column sticks to one data type. It’s like making sure every recipe card has the same fields: ingredients, time, servings!"
      ]
    },
    {
      "cell_type": "markdown",
      "metadata": {},
      "source": [
        "## Why Is This Necessary?\n",
        "\n",
        "- **In Mathematics**: Rectangular data lets us run calculations across rows or columns, like averaging grades or comparing subjects. It’s the backbone of stats.\n",
        "- **In Machine Learning (ML)**: Computers thrive on this format—it’s predictable. ML models need a grid to spot relationships, like linking grades to subjects."
      ]
    },
    {
      "cell_type": "markdown",
      "metadata": {},
      "source": [
        "## Relevance in Machine Learning\n",
        "Rectangular data is the heart of ML. Think of it as fuel for a car—without it, the model (the engine) won’t run. It powers everything from predicting student success to analyzing sales. But watch out: if a row misses a grade or a column mixes numbers and text, the model might choke, so cleaning and structuring are must-dos."
      ]
    },
    {
      "cell_type": "markdown",
      "metadata": {},
      "source": [
        "## Applications\n",
        "\n",
        "- **Student Performance Tracking**: Schools use tables of names, scores, and attendance to spot trends.\n",
        "- **Sales Analysis**: Retailers organize product IDs, prices, and sales to fine-tune inventory.\n",
        "- **Health Records**: Hospitals track patient IDs, ages, and diagnoses to predict treatments."
      ]
    },
    {
      "cell_type": "markdown",
      "metadata": {},
      "source": [
        "## Step-by-Step Example\n",
        "Let’s set up our classroom table like pros. Here’s the plan:\n",
        "\n",
        "1. **Collect the Data**: Ask Aisha, Ben, and Clara for their grades and favorite subjects.\n",
        "2. **Shape It**: Build a table with “Name,” “Grade,” and “Favorite Subject” as columns.\n",
        "3. **Explore It**: Spot Clara’s 78—maybe Art isn’t her jam? Let’s dig in!\n",
        "\n",
        "Let’s fire up Python with `pandas` to create and play with this table:"
      ]
    },
    {
      "cell_type": "code",
      "execution_count": null,
      "metadata": {},
      "outputs": [],
      "source": [
        "import pandas as pd\n",
        "\n",
        "# Create a rectangular data frame\n",
        "data = pd.DataFrame({\n",
        "    'Name': ['Aisha', 'Ben', 'Clara'],\n",
        "    'Grade': [85, 92, 78],\n",
        "    'Favorite Subject': ['Math', 'Science', 'Art']\n",
        "})\n",
        "\n",
        "print(data)\n",
        "\n",
        "# Calculate the average grade\n",
        "average_grade = data['Grade'].mean()\n",
        "print(f\"Average grade: {average_grade}\")  # Outputs: Average grade: 85.0"
      ]
    },
    {
      "cell_type": "markdown",
      "metadata": {},
      "source": [
        "Nice! An average of 85 means our class is doing great. Let’s visualize it with a bar chart to see who’s shining:"
      ]
    },
    {
      "cell_type": "code",
      "execution_count": null,
      "metadata": {},
      "outputs": [],
      "source": [
        "%matplotlib inline\n",
        "import matplotlib.pyplot as plt\n",
        "\n",
        "# Plot grades as a bar chart\n",
        "data.plot(kind='bar', x='Name', y='Grade', title='Grades by Student', color='lightgreen')\n",
        "plt.ylabel('Grade')\n",
        "plt.show()"
      ]
    },
    {
      "cell_type": "markdown",
      "metadata": {},
      "source": [
        "## Practical Insights\n",
        "\n",
        "- **Consistency Is King**: Every row needs all columns. If Ben’s grade is missing, we can fill it (e.g., with 85).\n",
        "- **Scalability**: This format handles thousands of students or products—perfect for big data.\n",
        "- **Feature Power**: Each column (e.g., “Grade”) is a feature ML can use to predict, like who might ace the next test.\n",
        "\n",
        "Let’s test filling a missing grade. What if Clara forgot hers?"
      ]
    },
    {
      "cell_type": "code",
      "execution_count": null,
      "metadata": {},
      "outputs": [],
      "source": [
        "# Data with a missing grade\n",
        "data_missing = pd.DataFrame({\n",
        "    'Name': ['Aisha', 'Ben', 'Clara'],\n",
        "    'Grade': [85, 92, None],\n",
        "    'Favorite Subject': ['Math', 'Science', 'Art']\n",
        "})\n",
        "\n",
        "# Fill missing grade with the average\n",
        "data_missing['Grade'] = data_missing['Grade'].fillna(data_missing['Grade'].mean())\n",
        "print(data_missing)"
      ]
    },
    {
      "cell_type": "markdown",
      "metadata": {},
      "source": [
        "## Common Pitfalls to Avoid\n",
        "\n",
        "- **Mismatched Types**: Mixing numbers (85) and text (“Math”) in one column trips up tools—keep types consistent.\n",
        "- **Missing Values**: A blank grade for Clara skews averages—impute it (e.g., 85) or flag it.\n",
        "- **Overloading Rows**: Adding too many students without quality checks can bury errors—validate on the fly.\n",
        "\n",
        "Let’s check for mixed types—say we accidentally add text to grades:"
      ]
    },
    {
      "cell_type": "code",
      "execution_count": null,
      "metadata": {},
      "outputs": [],
      "source": [
        "# Data with a type mismatch\n",
        "data_mismatch = pd.DataFrame({\n",
        "    'Name': ['Aisha', 'Ben', 'Clara'],\n",
        "    'Grade': [85, '92', 78],  # '92' is a string!\n",
        "    'Favorite Subject': ['Math', 'Science', 'Art']\n",
        "})\n",
        "\n",
        "# Convert to numeric, coercing errors to NaN\n",
        "data_mismatch['Grade'] = pd.to_numeric(data_mismatch['Grade'], errors='coerce')\n",
        "print(data_mismatch)\n",
        "\n",
        "# Fill NaN from the conversion\n",
        "data_mismatch['Grade'] = data_mismatch['Grade'].fillna(data_mismatch['Grade'].mean())\n",
        "print(f\"Fixed data:\\n{data_mismatch}\")"
      ]
    },
    {
      "cell_type": "markdown",
      "metadata": {},
      "source": [
        "## What’s Next?\n",
        "We’ve built our classroom grid and checked the average. Next, we’ll master navigating it with data frames and indexes—like labeling each desk for quick access. Ready to level up our organization?"
      ]
    }
  ],
  "metadata": {
    "kernelspec": {
      "display_name": "Python 3",
      "language": "python",
      "name": "python3"
    },
    "language_info": {
      "codemirror_mode": {
        "name": "ipython",
        "version": 3
      },
      "file_extension": ".py",
      "mimetype": "text/x-python",
      "name": "python",
      "nbconvert_exporter": "python",
      "pygments_lexer": "ipython3",
      "version": "3.8.5"
    }
  },
  "nbformat": 4,
  "nbformat_minor": 2
}
