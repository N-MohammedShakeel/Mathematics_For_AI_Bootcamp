{
  "cells": [
    {
      "cell_type": "markdown",
      "metadata": {},
      "source": [
        "# 1.7 Exploring Data Distribution\n",
        "Imagine you’re an artist sketching a mountain range, capturing its peaks and valleys, or a kid sorting a bag of candies by color to see which ones dominate. That’s what exploring data distribution is like—using tools like histograms, box plots, and skewness to visualize the shape and spread of your data. It’s like drawing a map of your dataset to uncover its hidden story!"
      ]
    },
    {
      "cell_type": "markdown",
      "metadata": {},
      "source": [
        "## What Is Exploring Data Distribution?\n",
        "Data distribution shows how values are spread out or clustered. Here’s how we explore it:\n",
        "\n",
        "- **Histograms**: Bar charts that group data into bins, like counting candies in color piles to see the most common.\n",
        "- **Box Plots**: Boxes and whiskers that show the middle 50%, extremes, and outliers, like marking the height range of kids.\n",
        "- **Skewness**: A measure of tilt—whether data leans left (long tail on the right) or right (long tail on the left), like a lopsided mountain.\n",
        "\n",
        "Let’s use a custom dataset of passenger ages. We’ll start with the sample `titanic_ages.csv` you provided, saved in your `data` folder with these values:\n",
        "\n",
        "| Age |\n",
        "|-----|\n",
        "| 22  |\n",
        "| 38  |\n",
        "| 26  |\n",
        "| 35  |\n",
        "| 54  |\n",
        "| 2   |\n",
        "| 27  |\n",
        "| 14  |\n",
        "\n",
        "Load it like this:"
      ]
    },
    {
      "cell_type": "code",
      "execution_count": null,
      "metadata": {},
      "outputs": [],
      "source": [
        "import pandas as pd\n",
        "import matplotlib.pyplot as plt\n",
        "\n",
        "# Import the sample dataset from the data folder\n",
        "data = pd.read_csv('data/titanic_ages.csv')\n",
        "\n",
        "print(data.head())  # Show the first few rows"
      ]
    },
    {
      "cell_type": "markdown",
      "metadata": {},
      "source": [
        "Let’s create a histogram for `Age`:"
      ]
    },
    {
      "cell_type": "code",
      "execution_count": null,
      "metadata": {},
      "outputs": [],
      "source": [
        "# Create a histogram\n",
        "plt.hist(data['Age'], bins=5, edgecolor='black', color='lightgreen')\n",
        "plt.title('Distribution of Passenger Ages')\n",
        "plt.xlabel('Age')\n",
        "plt.ylabel('Frequency')\n",
        "plt.show()"
      ]
    },
    {
      "cell_type": "markdown",
      "metadata": {},
      "source": [
        "Now, a box plot for `Age`:"
      ]
    },
    {
      "cell_type": "code",
      "execution_count": null,
      "metadata": {},
      "outputs": [],
      "source": [
        "# Create a box plot\n",
        "data.boxplot(column='Age', patch_artist=True, boxprops=dict(facecolor='lightblue'))\n",
        "plt.title('Box Plot of Passenger Ages')\n",
        "plt.ylabel('Age')\n",
        "plt.show()"
      ]
    },
    {
      "cell_type": "markdown",
      "metadata": {},
      "source": [
        "To check skewness:"
      ]
    },
    {
      "cell_type": "code",
      "execution_count": null,
      "metadata": {},
      "outputs": [],
      "source": [
        "# Calculate skewness\n",
        "skewness = data['Age'].skew()\n",
        "print(f\"Skewness of ages: {skewness:.2f}\")  # Outputs a positive value, e.g., 0.82, indicating right skew"
      ]
    },
    {
      "cell_type": "markdown",
      "metadata": {},
      "source": [
        "The histogram shows a concentration around 20-30, the box plot highlights the outlier (2), and skewness (around 0.82) confirms a right tilt due to the older age (54). For a larger dataset, let’s generate one:"
      ]
    },
    {
      "cell_type": "code",
      "execution_count": null,
      "metadata": {},
      "outputs": [],
      "source": [
        "# Generate a larger custom dataset\n",
        "import numpy as np\n",
        "np.random.seed(42)  # For reproducibility\n",
        "ages = np.concatenate([np.random.normal(30, 10, 800), np.random.normal(60, 5, 200)])  # Mostly 20-40, some older\n",
        "large_data = pd.DataFrame({'Age': ages})\n",
        "\n",
        "# Save to CSV\n",
        "large_data.to_csv('data/titanic_ages_large.csv', index=False)\n",
        "print(\"Large dataset saved as data/titanic_ages_large.csv\")"
      ]
    },
    {
      "cell_type": "markdown",
      "metadata": {},
      "source": [
        "Reload and analyze the larger dataset:"
      ]
    },
    {
      "cell_type": "code",
      "execution_count": null,
      "metadata": {},
      "outputs": [],
      "source": [
        "# Import the larger dataset\n",
        "large_data = pd.read_csv('data/titanic_ages_large.csv')\n",
        "\n",
        "# Histogram for larger dataset\n",
        "plt.hist(large_data['Age'], bins=10, edgecolor='black', color='lightcoral')\n",
        "plt.title('Distribution of Larger Passenger Ages')\n",
        "plt.xlabel('Age')\n",
        "plt.ylabel('Frequency')\n",
        "plt.show()\n",
        "\n",
        "# Box plot for larger dataset\n",
        "large_data.boxplot(column='Age', patch_artist=True, boxprops=dict(facecolor='lightblue'))\n",
        "plt.title('Box Plot of Larger Passenger Ages')\n",
        "plt.ylabel('Age')\n",
        "plt.show()\n",
        "\n",
        "# Skewness for larger dataset\n",
        "skewness_large = large_data['Age'].skew()\n",
        "print(f\"Skewness of larger ages: {skewness_large:.2f}\")  # e.g., 0.45, still right-skewed"
      ]
    },
    {
      "cell_type": "markdown",
      "metadata": {},
      "source": [
        "## Why Is This Necessary?\n",
        "\n",
        "- **In Mathematics**: Visualizing distribution helps understand data behavior, like spotting if grades cluster around a certain score.\n",
        "- **In Machine Learning (ML)**: It reveals patterns that affect model performance, like whether data needs transformation."
      ]
    },
    {
      "cell_type": "markdown",
      "metadata": {},
      "source": [
        "## Relevance in Machine Learning\n",
        "Distribution shapes ML outcomes. A skewed dataset (e.g., mostly young passengers) might bias a model unless adjusted. Histograms spot these trends, box plots flag outliers to handle, and skewness guides data normalization—key steps for accurate predictions."
      ]
    },
    {
      "cell_type": "markdown",
      "metadata": {},
      "source": [
        "## Applications\n",
        "\n",
        "- **Sales Trends**: Retailers use histograms to see which price ranges sell most.\n",
        "- **Grade Distributions**: Schools plot grades to identify common performance levels."
      ]
    },
    {
      "cell_type": "markdown",
      "metadata": {},
      "source": [
        "## Step-by-Step Example\n",
        "Let’s explore our age data:\n",
        "\n",
        "1. **Load the Data**: Import `titanic_ages.csv` or `titanic_ages_large.csv` from `data/`.\n",
        "2. **Plot a Histogram**: See how ages group—more 20-30-year-olds in the small set, broader in the large set.\n",
        "3. **Draw a Box Plot**: Spot the median (around 27 small, 32 large) and outliers (e.g., 2 small, extreme ages large).\n",
        "4. **Measure Skewness**: A positive value (e.g., 0.82 small, 0.45 large) shows older ages are less common.\n",
        "\n",
        "Run the code above to visualize and confirm the right skew!"
      ]
    },
    {
      "cell_type": "markdown",
      "metadata": {},
      "source": [
        "## Practical Insights\n",
        "\n",
        "- **Bin Choice**: Too few bins hide details; too many clutter—10 bins suit the larger dataset.\n",
        "- **Outlier Flags**: Box plots make outliers jump out—e.g., age 2 in the small set or extremes in the large set.\n",
        "- **Skewness Action**: Positive skew might need a log transform for ML models.\n",
        "\n",
        "Let’s apply a log transform to the larger dataset:"
      ]
    },
    {
      "cell_type": "code",
      "execution_count": null,
      "metadata": {},
      "outputs": [],
      "source": [
        "# Apply log transform and recalculate skewness\n",
        "large_data['Log_Age'] = np.log1p(large_data['Age'])  # log1p handles zero values\n",
        "skewness_log = large_data['Log_Age'].skew()\n",
        "print(f\"Skewness of log-transformed ages: {skewness_log:.2f}\")  # e.g., -0.12, closer to zero\n",
        "\n",
        "# Histogram of log-transformed ages\n",
        "plt.hist(large_data['Log_Age'], bins=10, edgecolor='black', color='lightcoral')\n",
        "plt.title('Distribution of Log-Transformed Passenger Ages')\n",
        "plt.xlabel('Log(Age)')\n",
        "plt.ylabel('Frequency')\n",
        "plt.show()"
      ]
    },
    {
      "cell_type": "markdown",
      "metadata": {},
      "source": [
        "## Common Pitfalls to Avoid\n",
        "\n",
        "- **Misleading Bins**: Uneven bin sizes can distort histograms—keep them equal.\n",
        "- **Ignoring Outliers**: Box plot whiskers might hide extremes—investigate them.\n",
        "- **Overinterpreting Skewness**: A small skew (e.g., 0.45) might not need fixing—check its impact.\n",
        "\n",
        "Let’s filter outliers from the larger dataset and replot:"
      ]
    },
    {
      "cell_type": "code",
      "execution_count": null,
      "metadata": {},
      "outputs": [],
      "source": [
        "# Filter out extreme ages (e.g., below 1 or above 80)\n",
        "large_data_clean = large_data[(large_data['Age'] >= 1) & (large_data['Age'] <= 80)]\n",
        "large_data_clean.boxplot(column='Age', patch_artist=True, boxprops=dict(facecolor='lightblue'))\n",
        "plt.title('Box Plot of Cleaned Passenger Ages')\n",
        "plt.ylabel('Age')\n",
        "plt.show()"
      ]
    },
    {
      "cell_type": "markdown",
      "metadata": {},
      "source": [
        "## What’s Next?\n",
        "We’ve sketched our data’s shape. Next, we’ll dive into binary categorical data to explore yes/no patterns—think of it as sorting coins by heads or tails. Ready for the next adventure?"
      ]
    }
  ],
  "metadata": {
    "kernelspec": {
      "display_name": "Python 3",
      "language": "python",
      "name": "python3"
    },
    "language_info": {
      "codemirror_mode": {
        "name": "ipython",
        "version": 3
      },
      "file_extension": ".py",
      "mimetype": "text/x-python",
      "name": "python",
      "nbconvert_exporter": "python",
      "pygments_lexer": "ipython3",
      "version": "3.8.5"
    }
  },
  "nbformat": 4,
  "nbformat_minor": 2
}
