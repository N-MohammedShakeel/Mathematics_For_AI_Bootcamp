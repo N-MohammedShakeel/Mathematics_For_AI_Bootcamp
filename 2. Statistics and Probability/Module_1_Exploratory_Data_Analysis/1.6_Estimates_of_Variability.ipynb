{
  "cells": [
    {
      "cell_type": "markdown",
      "metadata": {},
      "source": [
        "# 1.6 Estimates of Variability\n",
        "Picture a playground where some kids are bunched up near the swings, while others are scattered toward the slides. Or think of tracking daily temperatures—some days are steady, others swing wildly. That’s what estimates of variability are about—measuring how spread out or consistent your data is using tools like range, standard deviation, and percentiles. It’s like figuring out if your toy collection is all similar or full of surprises!"
      ]
    },
    {
      "cell_type": "markdown",
      "metadata": {},
      "source": [
        "## What Are Estimates of Variability?\n",
        "Variability tells us how much data points differ from each other or the center. Here’s the toolkit:\n",
        "\n",
        "- **Range**: The gap between the smallest and largest values, like the distance from the shortest to tallest kid.\n",
        "- **Standard Deviation**: How much data typically deviates from the average, like how far kids wander from the playground’s middle.\n",
        "- **Percentiles**: Where a value stands in the lineup, like knowing if a kid is in the top 25% of heights.\n",
        "\n",
        "Let’s use our existing `toy_data.csv` dataset, which has 100 rows of toy counts and more. We’ll focus on the `Number of Toys` column. Load it like this:"
      ]
    },
    {
      "cell_type": "code",
      "execution_count": null,
      "metadata": {},
      "outputs": [],
      "source": [
        "import pandas as pd\n",
        "\n",
        "# Import the sample dataset from the data folder\n",
        "data = pd.read_csv('data/toy_data.csv')\n",
        "\n",
        "# Set 'ID' as index for easy access\n",
        "data.set_index('ID', inplace=True)\n",
        "\n",
        "print(data.head())  # Show the first 5 rows to get a peek"
      ]
    },
    {
      "cell_type": "markdown",
      "metadata": {},
      "source": [
        "The dataset includes `Name`, `Favorite Toy`, `Number of Toys`, `Price per Toy`, and `Is Gifted`. Let’s calculate the variability measures for `Number of Toys`:\n",
        "\n",
        "For range:"
      ]
    },
    {
      "cell_type": "code",
      "execution_count": null,
      "metadata": {},
      "outputs": [],
      "source": [
        "# Calculate range of toys\n",
        "range_toys = data['Number of Toys'].max() - data['Number of Toys'].min()\n",
        "print(f\"Range of toys: {range_toys}\")  # Outputs something like: Range of toys: 19 (1 to 20)"
      ]
    },
    {
      "cell_type": "markdown",
      "metadata": {},
      "source": [
        "For standard deviation:"
      ]
    },
    {
      "cell_type": "code",
      "execution_count": null,
      "metadata": {},
      "outputs": [],
      "source": [
        "# Calculate standard deviation of toys\n",
        "std_toys = data['Number of Toys'].std()\n",
        "print(f\"Standard deviation of toys: {std_toys:.2f}\")  # Outputs something like: Standard deviation of toys: 5.77"
      ]
    },
    {
      "cell_type": "markdown",
      "metadata": {},
      "source": [
        "For the 50th percentile (median) and other percentiles:"
      ]
    },
    {
      "cell_type": "code",
      "execution_count": null,
      "metadata": {},
      "outputs": [],
      "source": [
        "# Calculate percentiles\n",
        "percentile_25 = data['Number of Toys'].quantile(0.25)\n",
        "percentile_50 = data['Number of Toys'].quantile(0.5)\n",
        "percentile_75 = data['Number of Toys'].quantile(0.75)\n",
        "print(f\"25th percentile of toys: {percentile_25:.2f}\")  # e.g., 5.00\n",
        "print(f\"50th percentile (median) of toys: {percentile_50:.2f}\")  # e.g., 10.00\n",
        "print(f\"75th percentile of toys: {percentile_75:.2f}\")  # e.g., 15.00"
      ]
    },
    {
      "cell_type": "markdown",
      "metadata": {},
      "source": [
        "With 100 random toy counts between 1 and 20, the range is 19 (max 20 - min 1), the standard deviation shows the spread around the mean, and percentiles give us the quartiles. Let’s visualize this with a box plot:"
      ]
    },
    {
      "cell_type": "code",
      "execution_count": null,
      "metadata": {},
      "outputs": [],
      "source": [
        "%matplotlib inline\n",
        "import matplotlib.pyplot as plt\n",
        "\n",
        "# Plot box plot of Number of Toys\n",
        "data['Number of Toys'].plot(kind='box', patch_artist=True, boxprops=dict(facecolor='lightblue'))\n",
        "plt.title('Box Plot of Number of Toys')\n",
        "plt.ylabel('Number of Toys')\n",
        "plt.show()"
      ]
    },
    {
      "cell_type": "markdown",
      "metadata": {},
      "source": [
        "## Why Is This Necessary?\n",
        "\n",
        "- **In Mathematics**: Variability measures help us understand data distribution, like checking if test scores are clustered or scattered.\n",
        "- **In Machine Learning (ML)**: It assesses how stable predictions might be, ensuring models don’t overreact to outliers."
      ]
    },
    {
      "cell_type": "markdown",
      "metadata": {},
      "source": [
        "## Relevance in Machine Learning\n",
        "Variability is a reality check for ML. A high standard deviation might mean a model needs to handle noisy data, while percentiles help set thresholds (e.g., top 10% of sales). It’s crucial for evaluating model performance and tweaking algorithms to fit the data’s spread."
      ]
    },
    {
      "cell_type": "markdown",
      "metadata": {},
      "source": [
        "## Applications\n",
        "\n",
        "- **Test Score Consistency**: Schools use standard deviation to see if grades are tightly grouped or all over the place.\n",
        "- **Sales Variation**: Retailers track range and percentiles to manage stock during fluctuating demand."
      ]
    },
    {
      "cell_type": "markdown",
      "metadata": {},
      "source": [
        "## Step-by-Step Example\n",
        "Let’s measure the spread of our toy data:\n",
        "\n",
        "1. **Load the Data**: Import `toy_data.csv` from `data/`.\n",
        "2. **Calculate Range**: 20 (max) - 1 (min) = 19—our spread is 19 toys.\n",
        "3. **Find Standard Deviation**: About 5.77, showing the average distance from the mean.\n",
        "4. **Check Percentiles**: The 25th, 50th, and 75th percentiles give us the spread across quarters.\n",
        "\n",
        "The range of 19 and standard deviation of 5.77 suggest a wide variety, with the box plot showing the distribution!"
      ]
    },
    {
      "cell_type": "markdown",
      "metadata": {},
      "source": [
        "## Practical Insights\n",
        "\n",
        "- **Outlier Sensitivity**: Range is simple but sensitive to extremes—standard deviation balances this better.\n",
        "- **Percentile Flexibility**: Use the 25th or 75th percentile to see the lower or upper spread, like the bottom or top quarter of toy counts.\n",
        "- **Contextual Spread**: A standard deviation of 5.77 is significant for toy counts (1-20) but might be small for larger ranges.\n",
        "\n",
        "Let’s test an outlier by adding a friend with 50 toys and recalculating:"
      ]
    },
    {
      "cell_type": "code",
      "execution_count": null,
      "metadata": {},
      "outputs": [],
      "source": [
        "# Add an outlier\n",
        "data_with_outlier = pd.concat([data, pd.DataFrame({'Name': ['Zara'], 'Favorite Toy': ['Robot'], 'Number of Toys': [50], 'Price per Toy': [25.00], 'Is Gifted': [False]}, index=[101])])\n",
        "\n",
        "# Recalculate range and standard deviation\n",
        "range_with_outlier = data_with_outlier['Number of Toys'].max() - data_with_outlier['Number of Toys'].min()\n",
        "std_with_outlier = data_with_outlier['Number of Toys'].std()\n",
        "print(f\"Range with outlier: {range_with_outlier}\")  # e.g., 49 (50 - 1)\n",
        "print(f\"Standard deviation with outlier: {std_with_outlier:.2f}\")  # e.g., 7.85"
      ]
    },
    {
      "cell_type": "markdown",
      "metadata": {},
      "source": [
        "## Common Pitfalls to Avoid\n",
        "\n",
        "- **Small Samples**: With just a few values, variability might mislead—our 100 rows are safer.\n",
        "- **Misinterpreting Range**: A range of 19 sounds big, but with 100 points, it’s more meaningful than with three.\n",
        "- **Percentile Confusion**: The 50th percentile is the median, not the average—don’t mix them up!\n",
        "\n",
        "Let’s check the interquartile range (IQR) to see the middle 50% spread:"
      ]
    },
    {
      "cell_type": "code",
      "execution_count": null,
      "metadata": {},
      "outputs": [],
      "source": [
        "# Calculate interquartile range (IQR)\n",
        "iqr_toys = data['Number of Toys'].quantile(0.75) - data['Number of Toys'].quantile(0.25)\n",
        "print(f\"Interquartile range (IQR) of toys: {iqr_toys:.2f}\")  # e.g., 10.00"
      ]
    },
    {
      "cell_type": "markdown",
      "metadata": {},
      "source": [
        "## What’s Next?\n",
        "We’ve mapped the spread of our toy data. Next, we’ll explore data distribution with visuals like histograms—think of it as sketching the playground’s layout. Ready to see the full picture?"
      ]
    }
  ],
  "metadata": {
    "kernelspec": {
      "display_name": "Python 3",
      "language": "python",
      "name": "python3"
    },
    "language_info": {
      "codemirror_mode": {
        "name": "ipython",
        "version": 3
      },
      "file_extension": ".py",
      "mimetype": "text/x-python",
      "name": "python",
      "nbconvert_exporter": "python",
      "pygments_lexer": "ipython3",
      "version": "3.8.5"
    }
  },
  "nbformat": 4,
  "nbformat_minor": 2
}
