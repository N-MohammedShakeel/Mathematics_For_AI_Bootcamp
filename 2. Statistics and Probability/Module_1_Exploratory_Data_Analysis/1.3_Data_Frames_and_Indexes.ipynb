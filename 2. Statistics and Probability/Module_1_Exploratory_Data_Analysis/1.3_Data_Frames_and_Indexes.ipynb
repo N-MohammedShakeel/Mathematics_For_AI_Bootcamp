{
  "cells": [
    {
      "cell_type": "markdown",
      "metadata": {},
      "source": [
        "# 1.3 Data Frames and Indexes\n",
        "Imagine you’re in a massive library with thousands of books, and you need to find one fast. You’d flip to the card catalog, where each book has an index number to guide you—row by row, shelf by shelf. That’s what data frames and indexes are in the data world: a slick way to organize and access info using Python’s pandas library, like having a treasure map with labeled dig spots!"
      ]
    },
    {
      "cell_type": "markdown",
      "metadata": {},
      "source": [
        "## What Are Data Frames and Indexes?\n",
        "A data frame is like a super-organized table in pandas, where rows are observations (e.g., people) and columns are variables (e.g., names, toy counts). An index is like the library’s card catalog—a special label for each row, making it a breeze to find or filter data. Let’s check out our toy data:\n",
        "\n",
        "We’ll load it from a file called `toy_data.csv` in a `data` folder. Make sure it’s there first (see the script below to create it if needed). Here’s how to get started:"
      ]
    },
    {
      "cell_type": "code",
      "execution_count": 1,
      "metadata": {},
      "outputs": [
        {
          "name": "stdout",
          "output_type": "stream",
          "text": [
            "   ID    Name Favorite Toy  Number of Toys  Price per Toy  Is Gifted\n",
            "0   1  Farhan         Kite               5          11.61      False\n",
            "1   2   Aisha         Ball              14           8.15      False\n",
            "2   3    Ella         Lego               6          11.07      False\n",
            "3   4    Jack         Doll              14          32.68      False\n",
            "4   5    Jack        Robot               7          10.68      False\n"
          ]
        }
      ],
      "source": [
        "import pandas as pd\n",
        "\n",
        "# Import the sample dataset\n",
        "data = pd.read_csv('data/toy_data.csv')\n",
        "\n",
        "print(data.head())  # Show the first 5 rows to get a peek"
      ]
    },
    {
      "cell_type": "markdown",
      "metadata": {},
      "source": [
        "The `toy_data.csv` now contains a larger dataset with 100 rows, including columns like `ID`, `Name`, `Favorite Toy`, `Number of Toys`, `Price per Toy`, and `Is Gifted`. A sample might look like this (varies due to randomness):\n",
        "\n",
        "| ID  | Name   | Favorite Toy | Number of Toys | Price per Toy | Is Gifted |\n",
        "|-----|--------|--------------|----------------|---------------|-----------|\n",
        "| 1   | Aisha  | Car          | 5              | 12.34         | False     |\n",
        "| 2   | Ben    | Doll         | 3              | 8.56          | True      |\n",
        "| 3   | Clara  | Block        | 7              | 19.87         | False     |\n",
        "\n",
        "The index starts as row numbers (0, 1, 2, ...), but let’s make it more useful by using `ID` as the index:"
      ]
    },
    {
      "cell_type": "code",
      "execution_count": 2,
      "metadata": {},
      "outputs": [
        {
          "name": "stdout",
          "output_type": "stream",
          "text": [
            "      Name Favorite Toy  Number of Toys  Price per Toy  Is Gifted\n",
            "ID                                                               \n",
            "1   Farhan         Kite               5          11.61      False\n",
            "2    Aisha         Ball              14           8.15      False\n",
            "3     Ella         Lego               6          11.07      False\n",
            "4     Jack         Doll              14          32.68      False\n",
            "5     Jack        Robot               7          10.68      False\n"
          ]
        }
      ],
      "source": [
        "# Set 'ID' as the index\n",
        "data.set_index('ID', inplace=True)\n",
        "\n",
        "print(data.head())"
      ]
    },
    {
      "cell_type": "markdown",
      "metadata": {},
      "source": [
        "Now, finding data for a specific ID (e.g., ID 3 for Clara) is a snap!"
      ]
    },
    {
      "cell_type": "code",
      "execution_count": 3,
      "metadata": {},
      "outputs": [
        {
          "name": "stdout",
          "output_type": "stream",
          "text": [
            "Data for ID 3: Favorite Toy       Lego\n",
            "Number of Toys        6\n",
            "Price per Toy     11.07\n",
            "Name: 3, dtype: object\n"
          ]
        }
      ],
      "source": [
        "# Access data for ID 3 (Clara's entry, if consistent)\n",
        "clara_data = data.loc[3, ['Favorite Toy', 'Number of Toys', 'Price per Toy']]\n",
        "print(f\"Data for ID 3: {clara_data}\")  # Outputs something like: Data for ID 3: Favorite Toy       Block\n",
        "                                                        # Number of Toys      7\n",
        "                                                        # Price per Toy    19.87"
      ]
    },
    {
      "cell_type": "markdown",
      "metadata": {},
      "source": [
        "## Why Is This Necessary?\n",
        "\n",
        "- **In Mathematics**: Indexes and data frames let us tweak data fast, like sorting grades or filtering numbers for analysis.\n",
        "- **In Machine Learning (ML)**: This setup is key for preprocessing—cleaning and shaping data before models get to work."
      ]
    },
    {
      "cell_type": "markdown",
      "metadata": {},
      "source": [
        "## Relevance in Machine Learning\n",
        "Data frames with indexes are the prep station for ML. They let you carve out specific rows (e.g., high toy counts) or columns (e.g., favorite toys) to train models, like guessing who might buy more toys. Without this, you’d be digging through a haystack—indexes are your metal detector!"
      ]
    },
    {
      "cell_type": "markdown",
      "metadata": {},
      "source": [
        "## Applications\n",
        "\n",
        "- **Filtering Datasets**: A retailer might filter sales by region with indexes to nail marketing targets.\n",
        "- **Time Series Analysis**: Stock prices indexed by date can reveal trends over time."
      ]
    },
    {
      "cell_type": "markdown",
      "metadata": {},
      "source": [
        "## Step-by-Step Example\n",
        "Let’s play library detectives with our toy data:\n",
        "\n",
        "1. **Import the Data**: Load `toy_data.csv` from the `data` folder with `pd.read_csv()`.\n",
        "2. **Set an Index**: Use `set_index('ID')` to make IDs the key—now ID 3 is Clara’s spot.\n",
        "3. **Access It**: Grab Clara’s toy count with `data.loc[3, 'Number of Toys']`.\n",
        "\n",
        "Let’s add a filter—find entries where the number of toys is above 10 and calculate total value:"
      ]
    },
    {
      "cell_type": "code",
      "execution_count": 4,
      "metadata": {},
      "outputs": [
        {
          "name": "stdout",
          "output_type": "stream",
          "text": [
            "      Name Favorite Toy  Number of Toys  Price per Toy  Is Gifted\n",
            "ID                                                               \n",
            "2    Aisha         Ball              14           8.15      False\n",
            "4     Jack         Doll              14          32.68      False\n",
            "6      Ben       Puzzle              15          46.33       True\n",
            "8     Jack         Lego              11          44.41      False\n",
            "10   Clara         Ball              14          23.72       True\n",
            "11    Ella         Lego              15          35.13       True\n",
            "13  Farhan         Kite              19          31.35      False\n",
            "14   David        Teddy              18          32.37      False\n",
            "16  Farhan        Train              17          28.20      False\n",
            "19   David         Kite              18          39.17       True\n",
            "20   Aisha          Car              15           6.78       True\n",
            "21    Hiro         Ball              19          10.07      False\n",
            "24   Grace        Robot              18          26.23       True\n",
            "27   Grace        Robot              14           7.95      False\n",
            "29    Hiro        Teddy              20          48.59      False\n",
            "30   David         Lego              13          31.24      False\n",
            "32    Jack        Block              14          34.73      False\n",
            "33  Farhan         Doll              18          32.31      False\n",
            "35     Ben        Teddy              18          21.62      False\n",
            "37    Jack         Kite              16          48.00      False\n",
            "38  Farhan        Robot              14          40.22      False\n",
            "40   Aisha        Teddy              11           9.78      False\n",
            "41    Jack          Car              17          45.91      False\n",
            "44    Jack        Robot              18           6.68      False\n",
            "45   Grace        Train              19          14.15      False\n",
            "48  Farhan         Kite              14          27.63       True\n",
            "49   Clara         Ball              16          28.90      False\n",
            "51     Ben       Puzzle              20          47.38       True\n",
            "53   Aisha        Robot              11          39.04      False\n",
            "57  Farhan         Kite              14          12.48      False\n",
            "58   David         Doll              19           9.46       True\n",
            "59    Jack         Doll              16          26.98       True\n",
            "60   David         Kite              14          14.91      False\n",
            "61    Isla       Puzzle              14          32.33       True\n",
            "62     Ben        Train              15          31.07      False\n",
            "66    Ella        Block              19          26.89      False\n",
            "67    Ella        Teddy              20          45.56      False\n",
            "69   Aisha         Lego              12          30.59      False\n",
            "70    Jack        Train              11          17.06       True\n",
            "71     Ben         Lego              13          48.31      False\n",
            "72    Isla        Teddy              12          10.21      False\n",
            "73   Aisha        Robot              17          38.72       True\n",
            "74    Jack        Train              20          41.52      False\n",
            "75   Clara        Train              18          41.39       True\n",
            "77   Grace        Block              17          15.36      False\n",
            "79   Grace         Lego              14          29.41       True\n",
            "80    Jack         Doll              20          22.32      False\n",
            "81    Isla        Robot              11          11.08       True\n",
            "82  Farhan        Train              19           7.86      False\n",
            "85    Isla         Doll              20          11.05       True\n",
            "92     Ben        Robot              13           5.96      False\n",
            "96  Farhan        Train              16           6.87      False\n",
            "97   Aisha          Car              13          24.09       True\n"
          ]
        },
        {
          "name": "stderr",
          "output_type": "stream",
          "text": [
            "C:\\Users\\Shake\\AppData\\Local\\Temp\\ipykernel_22380\\2485329150.py:6: SettingWithCopyWarning: \n",
            "A value is trying to be set on a copy of a slice from a DataFrame.\n",
            "Try using .loc[row_indexer,col_indexer] = value instead\n",
            "\n",
            "See the caveats in the documentation: https://pandas.pydata.org/pandas-docs/stable/user_guide/indexing.html#returning-a-view-versus-a-copy\n",
            "  high_toy_count['Total Value'] = high_toy_count['Number of Toys'] * high_toy_count['Price per Toy']\n"
          ]
        },
        {
          "name": "stdout",
          "output_type": "stream",
          "text": [
            "    Number of Toys  Price per Toy  Total Value\n",
            "ID                                            \n",
            "2               14           8.15       114.10\n",
            "4               14          32.68       457.52\n",
            "6               15          46.33       694.95\n",
            "8               11          44.41       488.51\n",
            "10              14          23.72       332.08\n",
            "11              15          35.13       526.95\n",
            "13              19          31.35       595.65\n",
            "14              18          32.37       582.66\n",
            "16              17          28.20       479.40\n",
            "19              18          39.17       705.06\n",
            "20              15           6.78       101.70\n",
            "21              19          10.07       191.33\n",
            "24              18          26.23       472.14\n",
            "27              14           7.95       111.30\n",
            "29              20          48.59       971.80\n",
            "30              13          31.24       406.12\n",
            "32              14          34.73       486.22\n",
            "33              18          32.31       581.58\n",
            "35              18          21.62       389.16\n",
            "37              16          48.00       768.00\n",
            "38              14          40.22       563.08\n",
            "40              11           9.78       107.58\n",
            "41              17          45.91       780.47\n",
            "44              18           6.68       120.24\n",
            "45              19          14.15       268.85\n",
            "48              14          27.63       386.82\n",
            "49              16          28.90       462.40\n",
            "51              20          47.38       947.60\n",
            "53              11          39.04       429.44\n",
            "57              14          12.48       174.72\n",
            "58              19           9.46       179.74\n",
            "59              16          26.98       431.68\n",
            "60              14          14.91       208.74\n",
            "61              14          32.33       452.62\n",
            "62              15          31.07       466.05\n",
            "66              19          26.89       510.91\n",
            "67              20          45.56       911.20\n",
            "69              12          30.59       367.08\n",
            "70              11          17.06       187.66\n",
            "71              13          48.31       628.03\n",
            "72              12          10.21       122.52\n",
            "73              17          38.72       658.24\n",
            "74              20          41.52       830.40\n",
            "75              18          41.39       745.02\n",
            "77              17          15.36       261.12\n",
            "79              14          29.41       411.74\n",
            "80              20          22.32       446.40\n",
            "81              11          11.08       121.88\n",
            "82              19           7.86       149.34\n",
            "85              20          11.05       221.00\n",
            "92              13           5.96        77.48\n",
            "96              16           6.87       109.92\n",
            "97              13          24.09       313.17\n"
          ]
        }
      ],
      "source": [
        "# Filter for toy counts above 10\n",
        "high_toy_count = data[data['Number of Toys'] > 10]\n",
        "print(high_toy_count)\n",
        "\n",
        "# Calculate total value (Number of Toys * Price per Toy) for these entries\n",
        "high_toy_count['Total Value'] = high_toy_count['Number of Toys'] * high_toy_count['Price per Toy']\n",
        "print(high_toy_count[['Number of Toys', 'Price per Toy', 'Total Value']])"
      ]
    },
    {
      "cell_type": "markdown",
      "metadata": {},
      "source": [
        "## Practical Insights\n",
        "\n",
        "- **Custom Indexes**: Labels like IDs or dates beat plain numbers for clarity.\n",
        "- **Efficiency**: Indexes let you grab data in one line, a lifesaver with 100+ rows.\n",
        "- **Flexibility**: Reset or switch indexes with `reset_index()` or `set_index()` anytime.\n",
        "\n",
        "Let’s try resetting the index and sorting by toy count:"
      ]
    },
    {
      "cell_type": "code",
      "execution_count": 5,
      "metadata": {},
      "outputs": [
        {
          "name": "stdout",
          "output_type": "stream",
          "text": [
            "    ID  Name Favorite Toy  Number of Toys  Price per Toy  Is Gifted\n",
            "28  29  Hiro        Teddy              20          48.59      False\n",
            "79  80  Jack         Doll              20          22.32      False\n",
            "66  67  Ella        Teddy              20          45.56      False\n",
            "50  51   Ben       Puzzle              20          47.38       True\n",
            "73  74  Jack        Train              20          41.52      False\n"
          ]
        }
      ],
      "source": [
        "# Reset index and sort by Number of Toys\n",
        "data_reset = data.reset_index().sort_values(by='Number of Toys', ascending=False)\n",
        "print(data_reset.head())"
      ]
    },
    {
      "cell_type": "markdown",
      "metadata": {},
      "source": [
        "## Common Pitfalls to Avoid\n",
        "\n",
        "- **Duplicate Indexes**: Two IDs would trip up `loc`—keep indexes unique (our IDs are already unique here).\n",
        "- **Missing Files**: If `toy_data.csv` isn’t in `data/`, you’ll hit an error—check the path!\n",
        "- **OverIndexing**: Too many index levels (e.g., ID and Name) can slow you down—keep it lean.\n",
        "\n",
        "Let’s test a scenario with a missing file path (commented out to avoid breaking the notebook):"
      ]
    },
    {
      "cell_type": "code",
      "execution_count": 6,
      "metadata": {},
      "outputs": [
        {
          "name": "stdout",
          "output_type": "stream",
          "text": [
            "Name              0\n",
            "Favorite Toy      0\n",
            "Number of Toys    0\n",
            "Price per Toy     0\n",
            "Is Gifted         0\n",
            "dtype: int64\n"
          ]
        }
      ],
      "source": [
        "# This would fail if the file isn't there\n",
        "# data_wrong_path = pd.read_csv('wrong_path/toy_data.csv')  # Uncomment to test error handling\n",
        "\n",
        "# Instead, let’s assume the file exists and check for missing values\n",
        "print(data.isnull().sum())  # Should show 0 for all columns with this dataset"
      ]
    },
    {
      "cell_type": "markdown",
      "metadata": {},
      "source": [
        "## What’s Next?\n",
        "We’ve nailed finding treasures with indexes. Next, we’ll tackle nonrectangular data structures—think of it as exploring maps with quirky shapes. Ready for the next adventure?"
      ]
    }
  ],
  "metadata": {
    "kernelspec": {
      "display_name": "Python 3",
      "language": "python",
      "name": "python3"
    },
    "language_info": {
      "codemirror_mode": {
        "name": "ipython",
        "version": 3
      },
      "file_extension": ".py",
      "mimetype": "text/x-python",
      "name": "python",
      "nbconvert_exporter": "python",
      "pygments_lexer": "ipython3",
      "version": "3.10.18"
    }
  },
  "nbformat": 4,
  "nbformat_minor": 2
}
