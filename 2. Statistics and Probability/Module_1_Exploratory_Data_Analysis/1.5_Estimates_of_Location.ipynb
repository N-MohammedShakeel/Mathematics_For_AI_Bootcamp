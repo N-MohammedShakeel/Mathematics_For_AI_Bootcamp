{
  "cells": [
    {
      "cell_type": "markdown",
      "metadata": {},
      "source": [
        "# 1.5 Estimates of Location\n",
        "Imagine you’re lining up your classmates by height to find the “middle” person—someone who’s not the tallest or shortest, just right in the center. Or picture a vote for the class’s favorite game, where one option stands out as the most popular. That’s what estimates of location are all about—finding the central point or most typical value in a dataset using tools like the mean, median, and mode. It’s like discovering the heartbeat of your data!"
      ]
    },
    {
      "cell_type": "markdown",
      "metadata": {},
      "source": [
        "## What Are Estimates of Location?\n",
        "Estimates of location help us summarize where the data clusters. Here’s the trio:\n",
        "\n",
        "- **Mean**: The average, like sharing all your toys equally among friends. Add up the values and divide by the count.\n",
        "- **Median**: The middle value when data is sorted, like picking the kid in the exact center of the line.\n",
        "- **Mode**: The most frequent value, like the game everyone votes for the most.\n",
        "\n",
        "Let’s use our existing `toy_data.csv` dataset, which has 100 rows of toy counts and more. We’ll focus on the `Number of Toys` column. Load it like this:"
      ]
    },
    {
      "cell_type": "code",
      "execution_count": null,
      "metadata": {},
      "outputs": [],
      "source": [
        "import pandas as pd\n",
        "\n",
        "# Import the sample dataset from the data folder\n",
        "data = pd.read_csv('data/toy_data.csv')\n",
        "\n",
        "# Set 'ID' as index for easy access\n",
        "data.set_index('ID', inplace=True)\n",
        "\n",
        "print(data.head())  # Show the first 5 rows to get a peek"
      ]
    },
    {
      "cell_type": "markdown",
      "metadata": {},
      "source": [
        "The dataset includes `Name`, `Favorite Toy`, `Number of Toys`, `Price per Toy`, and `Is Gifted`. Let’s calculate the estimates for `Number of Toys`:\n",
        "\n",
        "For mean:"
      ]
    },
    {
      "cell_type": "code",
      "execution_count": null,
      "metadata": {},
      "outputs": [],
      "source": [
        "# Calculate mean number of toys\n",
        "mean_toys = data['Number of Toys'].mean()\n",
        "print(f\"Mean number of toys: {mean_toys:.2f}\")  # Outputs something like: Mean number of toys: 10.50 (varies)"
      ]
    },
    {
      "cell_type": "markdown",
      "metadata": {},
      "source": [
        "For median:"
      ]
    },
    {
      "cell_type": "code",
      "execution_count": null,
      "metadata": {},
      "outputs": [],
      "source": [
        "# Calculate median number of toys\n",
        "median_toys = data['Number of Toys'].median()\n",
        "print(f\"Median number of toys: {median_toys:.2f}\")  # Outputs something like: Median number of toys: 10.00 (varies)"
      ]
    },
    {
      "cell_type": "markdown",
      "metadata": {},
      "source": [
        "For mode (most frequent value):"
      ]
    },
    {
      "cell_type": "code",
      "execution_count": null,
      "metadata": {},
      "outputs": [],
      "source": [
        "# Calculate mode number of toys\n",
        "mode_toys = data['Number of Toys'].mode()\n",
        "print(f\"Mode number of toys: {mode_toys[0] if not mode_toys.empty else 'No mode'}\")  # Outputs the most frequent value, e.g., 5"
      ]
    },
    {
      "cell_type": "markdown",
      "metadata": {},
      "source": [
        "With 100 random toy counts between 1 and 20, the mean and median will vary, and the mode might be a common value like 5 or 10. Let’s visualize this with a histogram:"
      ]
    },
    {
      "cell_type": "code",
      "execution_count": null,
      "metadata": {},
      "outputs": [],
      "source": [
        "%matplotlib inline\n",
        "import matplotlib.pyplot as plt\n",
        "\n",
        "# Plot histogram of Number of Toys\n",
        "data['Number of Toys'].hist(bins=20, color='lightcoral')\n",
        "plt.axvline(mean_toys, color='red', linestyle='dashed', linewidth=2, label=f'Mean: {mean_toys:.2f}')\n",
        "plt.axvline(median_toys, color='green', linestyle='dashed', linewidth=2, label=f'Median: {median_toys:.2f}')\n",
        "plt.title('Distribution of Number of Toys')\n",
        "plt.xlabel('Number of Toys')\n",
        "plt.ylabel('Frequency')\n",
        "plt.legend()\n",
        "plt.show()"
      ]
    },
    {
      "cell_type": "markdown",
      "metadata": {},
      "source": [
        "## Why Is This Necessary?\n",
        "\n",
        "- **In Mathematics**: These measures summarize data, helping us understand trends or compare groups, like averaging test scores.\n",
        "- **In Machine Learning (ML)**: They provide a baseline to predict values or fill in missing data, guiding model training."
      ]
    },
    {
      "cell_type": "markdown",
      "metadata": {},
      "source": [
        "## Relevance in Machine Learning\n",
        "Estimates of location are the starting line for ML. The mean might set a default prediction (e.g., average toy count), while the median handles skewed data (e.g., if one friend had 50 toys). The mode helps with categorical predictions, like guessing the most popular item. They’re essential for setting expectations before diving into complex models."
      ]
    },
    {
      "cell_type": "markdown",
      "metadata": {},
      "source": [
        "## Applications\n",
        "\n",
        "- **Average Scores**: Teachers use the mean to gauge class performance on a test.\n",
        "- **Popular Items**: Stores track the mode to stock the most-liked products."
      ]
    },
    {
      "cell_type": "markdown",
      "metadata": {},
      "source": [
        "## Step-by-Step Example\n",
        "Let’s find the center of our toy data:\n",
        "\n",
        "1. **Load the Data**: Import `toy_data.csv` from `data/`.\n",
        "2. **Calculate Mean**: Add all `Number of Toys`, divide by 100—our average!\n",
        "3. **Find Median**: Sort the 100 values, pick the middle one (50th).\n",
        "4. **Check Mode**: Look for the most frequent toy count.\n",
        "\n",
        "The mean and median give us a sense of balance, while the mode highlights the crowd favorite. The histogram above shows how they fit the distribution!"
      ]
    },
    {
      "cell_type": "markdown",
      "metadata": {},
      "source": [
        "## Practical Insights\n",
        "\n",
        "- **Context Matters**: The mean can be skewed by outliers (e.g., 50 toys), so the median might be safer.\n",
        "- **Frequency Clues**: The mode shines with categorical data, like favorite colors.\n",
        "- **Combination Power**: Use all three to get a fuller picture of your data.\n",
        "\n",
        "Let’s test an outlier by adding a friend with 50 toys and recalculating:"
      ]
    },
    {
      "cell_type": "code",
      "execution_count": null,
      "metadata": {},
      "outputs": [],
      "source": [
        "# Add an outlier\n",
        "data_with_outlier = pd.concat([data, pd.DataFrame({'Name': ['Zara'], 'Favorite Toy': ['Robot'], 'Number of Toys': [50], 'Price per Toy': [25.00], 'Is Gifted': [False]}, index=[101])])\n",
        "\n",
        "# Recalculate mean and median\n",
        "mean_with_outlier = data_with_outlier['Number of Toys'].mean()\n",
        "median_with_outlier = data_with_outlier['Number of Toys'].median()\n",
        "print(f\"Mean with outlier: {mean_with_outlier:.2f}\")\n",
        "print(f\"Median with outlier: {median_with_outlier:.2f}\")"
      ]
    },
    {
      "cell_type": "markdown",
      "metadata": {},
      "source": [
        "## Common Pitfalls to Avoid\n",
        "\n",
        "- **Outlier Impact**: A single huge value (e.g., 50) can drag the mean up—watch for this!\n",
        "- **Even Counts**: With an even number of values, the median is the average of the two middle numbers—don’t forget!\n",
        "- **No Mode**: If all values are unique, the mode won’t help—plan for this.\n",
        "\n",
        "Let’s check the mode for `Favorite Toy` (categorical data) to see if there’s a popular pick:"
      ]
    },
    {
      "cell_type": "code",
      "execution_count": null,
      "metadata": {},
      "outputs": [],
      "source": [
        "# Calculate mode for Favorite Toy\n",
        "mode_toy = data['Favorite Toy'].mode()[0]\n",
        "print(f\"Most popular toy: {mode_toy}\")  # Outputs the most frequent toy, e.g., 'Car'"
      ]
    },
    {
      "cell_type": "markdown",
      "metadata": {},
      "source": [
        "## What’s Next?\n",
        "We’ve found the center of our toy world. Next, we’ll explore how spread out the data is with estimates of variability—think of it as measuring how far apart the kids stand in line. Ready to dig deeper?"
      ]
    }
  ],
  "metadata": {
    "kernelspec": {
      "display_name": "Python 3",
      "language": "python",
      "name": "python3"
    },
    "language_info": {
      "codemirror_mode": {
        "name": "ipython",
        "version": 3
      },
      "file_extension": ".py",
      "mimetype": "text/x-python",
      "name": "python",
      "nbconvert_exporter": "python",
      "pygments_lexer": "ipython3",
      "version": "3.8.5"
    }
  },
  "nbformat": 4,
  "nbformat_minor": 2
}
