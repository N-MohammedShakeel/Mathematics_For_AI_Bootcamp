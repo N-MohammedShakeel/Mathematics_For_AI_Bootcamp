{
  "cells": [
    {
      "cell_type": "markdown",
      "metadata": {},
      "source": [
        "# 1.8 Exploring Binary Categorical Data\n",
        "Imagine you’re flipping a coin to decide—heads or tails, yes or no—or taking a class vote on pizza versus burgers. That’s the world of binary categorical data, where we deal with two options, like pass/fail or like/dislike. We use tools like mode, expected value, and probability to uncover patterns in this simple yet powerful data type. It’s like reading the room to see what everyone’s leaning toward!"
      ]
    },
    {
      "cell_type": "markdown",
      "metadata": {},
      "source": [
        "## What Is Exploring Binary Categorical Data?\n",
        "Binary categorical data has just two categories, often coded as 0 and 1 or yes/no. We explore it with:\n",
        "\n",
        "- **Mode**: The most common category, like the winning vote in our pizza debate.\n",
        "- **Expected Value**: The average outcome if we repeated the experiment, like guessing how many heads in 10 coin flips.\n",
        "- **Probability**: The chance of each category, like the likelihood of passing a test.\n",
        "\n",
        "Let’s use a custom dataset of toy preferences. We’ll generate a dataset with 100 entries and save it as `toy_preferences.csv` in your `data` folder. Load it like this:"
      ]
    },
    {
      "cell_type": "code",
      "execution_count": null,
      "metadata": {},
      "outputs": [],
      "source": [
        "import pandas as pd\n",
        "import numpy as np\n",
        "import os\n",
        "\n",
        "# Generate a fair amount of data\n",
        "os.makedirs(\"data\", exist_ok=True)\n",
        "names = [\"Aisha\", \"Ben\", \"Clara\", \"David\", \"Ella\", \"Farhan\", \"Grace\", \"Hiro\", \"Isla\", \"Jack\"]\n",
        "n = 100\n",
        "toy_data = pd.DataFrame({\n",
        "    \"Name\": np.random.choice(names, n),\n",
        "    \"Likes Cars (1=Yes, 0=No)\": np.random.choice([0, 1], n, p=[0.4, 0.6])  # 60% like cars\n",
        "})\n",
        "toy_data.to_csv('data/toy_preferences.csv', index=False)\n",
        "print(\"Dataset saved as data/toy_preferences.csv with\", n, \"entries\")\n",
        "\n",
        "# Load the dataset\n",
        "data = pd.read_csv('data/toy_preferences.csv')\n",
        "\n",
        "print(data.head())  # Show the first 5 rows"
      ]
    },
    {
      "cell_type": "markdown",
      "metadata": {},
      "source": [
        "Let’s calculate these measures. For mode:"
      ]
    },
    {
      "cell_type": "code",
      "execution_count": null,
      "metadata": {},
      "outputs": [],
      "source": [
        "# Calculate mode\n",
        "mode_preference = data['Likes Cars (1=Yes, 0=No)'].mode()[0]\n",
        "print(f\"Mode preference: {'Yes' if mode_preference == 1 else 'No'}\")  # Outputs: Mode preference: Yes"
      ]
    },
    {
      "cell_type": "markdown",
      "metadata": {},
      "source": [
        "For expected value (mean, since it’s binary):"
      ]
    },
    {
      "cell_type": "code",
      "execution_count": null,
      "metadata": {},
      "outputs": [],
      "source": [
        "# Calculate expected value\n",
        "expected_value = data['Likes Cars (1=Yes, 0=No)'].mean()\n",
        "print(f\"Expected value (probability of Yes): {expected_value:.2f}\")  # Outputs something like: 0.60"
      ]
    },
    {
      "cell_type": "markdown",
      "metadata": {},
      "source": [
        "For probability of “Yes” (same as mean here):"
      ]
    },
    {
      "cell_type": "code",
      "execution_count": null,
      "metadata": {},
      "outputs": [],
      "source": [
        "# Calculate probability of Yes\n",
        "probability_yes = data['Likes Cars (1=Yes, 0=No)'].mean()\n",
        "print(f\"Probability of liking cars: {probability_yes:.2f}\")  # Outputs something like: 0.60"
      ]
    },
    {
      "cell_type": "markdown",
      "metadata": {},
      "source": [
        "Let’s visualize the distribution with a bar plot:"
      ]
    },
    {
      "cell_type": "code",
      "execution_count": null,
      "metadata": {},
      "outputs": [],
      "source": [
        "import matplotlib.pyplot as plt\n",
        "\n",
        "# Count Yes and No\n",
        "counts = data['Likes Cars (1=Yes, 0=No)'].value_counts().sort_index()\n",
        "plt.bar(['No', 'Yes'], counts, color=['lightcoral', 'lightgreen'])\n",
        "plt.title('Toy Preference Distribution')\n",
        "plt.ylabel('Count')\n",
        "plt.show()"
      ]
    },
    {
      "cell_type": "markdown",
      "metadata": {},
      "source": [
        "With 100 entries and 60% liking cars, the mode is 1 (Yes), the expected value is around 0.60, and the probability of Yes matches, showing a clear preference for cars!"
      ]
    },
    {
      "cell_type": "markdown",
      "metadata": {},
      "source": [
        "## Why Is This Necessary?\n",
        "\n",
        "- **In Mathematics**: It helps analyze simple decisions or outcomes, like calculating pass rates in a class.\n",
        "- **In Machine Learning (ML)**: It’s the foundation for classification tasks, where models predict yes/no labels."
      ]
    },
    {
      "cell_type": "markdown",
      "metadata": {},
      "source": [
        "## Relevance in Machine Learning\n",
        "Binary data is the starting point for classification models, like predicting if a customer will buy (yes/no). The mode sets a baseline, expected value guides probability estimates, and probability shapes model training. Understanding this ensures models don’t misjudge rare categories."
      ]
    },
    {
      "cell_type": "markdown",
      "metadata": {},
      "source": [
        "## Applications\n",
        "\n",
        "- **Pass/Fail Rates**: Schools track how many students pass a test to adjust teaching.\n",
        "- **Product Preferences**: Companies use yes/no surveys to see which products are hits."
      ]
    },
    {
      "cell_type": "markdown",
      "metadata": {},
      "source": [
        "## Step-by-Step Example\n",
        "Let’s explore our toy preferences:\n",
        "\n",
        "1. **Load the Data**: Import `toy_preferences.csv` from `data/`.\n",
        "2. **Find Mode**: 1 (Yes) wins with more votes—cars are the favorite!\n",
        "3. **Calculate Expected Value**: Around 0.60 means 60% like cars on average.\n",
        "4. **Determine Probability**: Matches expected value, 60% chance of Yes.\n",
        "\n",
        "Run the code above to confirm—our data leans toward car lovers!"
      ]
    },
    {
      "cell_type": "markdown",
      "metadata": {},
      "source": [
        "## Practical Insights\n",
        "\n",
        "- **Balance Check**: If Yes and No are close (e.g., 50/50), the mode might not tell the full story—use probability.\n",
        "- **Small Samples**: With 100 entries, 0.60 is more reliable than a tiny sample.\n",
        "- **Binary Coding**: Consistent 0/1 coding avoids confusion—stick to it!\n",
        "\n",
        "Let’s adjust the preference ratio to 50/50 and recalculate:"
      ]
    },
    {
      "cell_type": "code",
      "execution_count": null,
      "metadata": {},
      "outputs": [],
      "source": [
        "# Generate data with 50/50 preference\n",
        "toy_data_50_50 = pd.DataFrame({\n",
        "    \"Name\": np.random.choice(names, n),\n",
        "    \"Likes Cars (1=Yes, 0=No)\": np.random.choice([0, 1], n, p=[0.5, 0.5])\n",
        "})\n",
        "toy_data_50_50.to_csv('data/toy_preferences_50_50.csv', index=False)\n",
        "\n",
        "# Load and analyze\n",
        "data_50_50 = pd.read_csv('data/toy_preferences_50_50.csv')\n",
        "expected_value_50_50 = data_50_50['Likes Cars (1=Yes, 0=No)'].mean()\n",
        "print(f\"Expected value (probability of Yes) with 50/50: {expected_value_50_50:.2f}\")  # Outputs something like: 0.50"
      ]
    },
    {
      "cell_type": "markdown",
      "metadata": {},
      "source": [
        "## Common Pitfalls to Avoid\n",
        "\n",
        "- **Imbalanced Data**: If 90% say Yes, the mode hides the minority—consider both categories.\n",
        "- **Misusing Expected Value**: It’s an average, not a guarantee—don’t overrely on it.\n",
        "- **Small Sample Bias**: 100 votes reduce bias, but even more data is better for precision.\n",
        "\n",
        "Let’s check the count of Yes/No for the 50/50 case:"
      ]
    },
    {
      "cell_type": "code",
      "execution_count": null,
      "metadata": {},
      "outputs": [],
      "source": [
        "# Visualize 50/50 distribution\n",
        "counts_50_50 = data_50_50['Likes Cars (1=Yes, 0=No)'].value_counts().sort_index()\n",
        "plt.bar(['No', 'Yes'], counts_50_50, color=['lightcoral', 'lightgreen'])\n",
        "plt.title('50/50 Toy Preference Distribution')\n",
        "plt.ylabel('Count')\n",
        "plt.show()"
      ]
    },
    {
      "cell_type": "markdown",
      "metadata": {},
      "source": [
        "## What’s Next?\n",
        "We’ve cracked the yes/no code. Next, we’ll move to sampling and probability in Module 2—think of it as rolling the dice on bigger datasets. Ready to level up?"
      ]
    }
  ],
  "metadata": {
    "kernelspec": {
      "display_name": "Python 3",
      "language": "python",
      "name": "python3"
    },
    "language_info": {
      "codemirror_mode": {
        "name": "ipython",
        "version": 3
      },
      "file_extension": ".py",
      "mimetype": "text/x-python",
      "name": "python",
      "nbconvert_exporter": "python",
      "pygments_lexer": "ipython3",
      "version": "3.8.5"
    }
  },
  "nbformat": 4,
  "nbformat_minor": 2
}
